{
 "cells": [
  {
   "cell_type": "code",
   "execution_count": 1,
   "id": "ec50eb21-eede-4340-add5-f81746cc5ad8",
   "metadata": {},
   "outputs": [],
   "source": [
    "import numpy as np\n",
    "import matplotlib.pyplot as plt\n",
    "import random\n",
    "import pandas as pd\n",
    "import math\n",
    "import time\n",
    "import warnings\n",
    "\n",
    "from sklearn.preprocessing import StandardScaler\n",
    "from sklearn.model_selection import cross_val_score\n",
    "from sklearn.metrics import mean_squared_error\n",
    "from sklearn.model_selection import train_test_split\n",
    "from scipy.stats import norm\n",
    "\n",
    "from sklearn.ensemble import RandomForestRegressor   \n",
    "from sklearn.svm import SVR\n",
    "from sklearn.neighbors import KNeighborsRegressor\n",
    "\n",
    "from SimulatedAnnealing import SimulatedAny\n",
    "from BayersOptimlization import Bayes_Optimalizator\n",
    "\n",
    "from sklearn.gaussian_process import GaussianProcessRegressor\n",
    "from sklearn.preprocessing import StandardScaler\n",
    "from sklearn.model_selection import cross_val_score\n",
    "from sklearn.metrics import mean_squared_error\n",
    "\n",
    "from sklearn.ensemble import RandomForestRegressor  \n",
    "\n",
    "import warnings\n",
    "warnings.filterwarnings(\"ignore\")"
   ]
  },
  {
   "cell_type": "markdown",
   "id": "8cf11804-0119-4ffe-bc11-9508f5299a9e",
   "metadata": {},
   "source": [
    "## Data Description and preprocessing"
   ]
  },
  {
   "cell_type": "code",
   "execution_count": 3,
   "id": "e17d0afe-089d-4752-bc52-6f140e3645d2",
   "metadata": {},
   "outputs": [],
   "source": [
    "pd_data = pd.read_csv('Daily_Demand_Forecasting_Orders.csv')"
   ]
  },
  {
   "cell_type": "code",
   "execution_count": 4,
   "id": "b53bc9cf-497d-4ae1-acd5-927f356660c4",
   "metadata": {},
   "outputs": [
    {
     "data": {
      "text/plain": [
       "(60, 4)"
      ]
     },
     "execution_count": 4,
     "metadata": {},
     "output_type": "execute_result"
    }
   ],
   "source": [
    "pd_data.shape"
   ]
  },
  {
   "cell_type": "code",
   "execution_count": 5,
   "id": "b8945974-c90b-4d64-a113-85b33f611c98",
   "metadata": {},
   "outputs": [
    {
     "data": {
      "text/html": [
       "<div>\n",
       "<style scoped>\n",
       "    .dataframe tbody tr th:only-of-type {\n",
       "        vertical-align: middle;\n",
       "    }\n",
       "\n",
       "    .dataframe tbody tr th {\n",
       "        vertical-align: top;\n",
       "    }\n",
       "\n",
       "    .dataframe thead th {\n",
       "        text-align: right;\n",
       "    }\n",
       "</style>\n",
       "<table border=\"1\" class=\"dataframe\">\n",
       "  <thead>\n",
       "    <tr style=\"text-align: right;\">\n",
       "      <th></th>\n",
       "      <th>Week of the month (first week</th>\n",
       "      <th>second</th>\n",
       "      <th>third</th>\n",
       "      <th>fourth or fifth week;Day of the week (Monday to Friday);Non-urgent order;Urgent order;Order type A;Order type B;Order type C;Fiscal sector orders;Orders from the traffic controller sector;Banking orders (1);Banking orders (2);Banking orders (3);Target (Total orders)</th>\n",
       "    </tr>\n",
       "  </thead>\n",
       "  <tbody>\n",
       "    <tr>\n",
       "      <th>0</th>\n",
       "      <td>1;4;316.307;223.270;61.543;175.586;302.448;0;6...</td>\n",
       "      <td>NaN</td>\n",
       "      <td>NaN</td>\n",
       "      <td>NaN</td>\n",
       "    </tr>\n",
       "    <tr>\n",
       "      <th>1</th>\n",
       "      <td>1;5;128.633;96.042;38.058;56.037;130.580;0;404...</td>\n",
       "      <td>NaN</td>\n",
       "      <td>NaN</td>\n",
       "      <td>NaN</td>\n",
       "    </tr>\n",
       "    <tr>\n",
       "      <th>2</th>\n",
       "      <td>1;6;43.651;84.375;21.826;25.125;82.461;1.386;1...</td>\n",
       "      <td>NaN</td>\n",
       "      <td>NaN</td>\n",
       "      <td>NaN</td>\n",
       "    </tr>\n",
       "    <tr>\n",
       "      <th>3</th>\n",
       "      <td>2;2;171.297;127.667;41.542;113.294;162.284;18....</td>\n",
       "      <td>NaN</td>\n",
       "      <td>NaN</td>\n",
       "      <td>NaN</td>\n",
       "    </tr>\n",
       "    <tr>\n",
       "      <th>4</th>\n",
       "      <td>2;3;90.532;113.526;37.679;56.618;116.220;6.459...</td>\n",
       "      <td>NaN</td>\n",
       "      <td>NaN</td>\n",
       "      <td>NaN</td>\n",
       "    </tr>\n",
       "    <tr>\n",
       "      <th>5</th>\n",
       "      <td>2;4;110.925;96.360;30.792;50.704;125.868;79;52...</td>\n",
       "      <td>NaN</td>\n",
       "      <td>NaN</td>\n",
       "      <td>NaN</td>\n",
       "    </tr>\n",
       "    <tr>\n",
       "      <th>6</th>\n",
       "      <td>2;5;144.124;118.919;43.304;66.371;153.368;0;46...</td>\n",
       "      <td>NaN</td>\n",
       "      <td>NaN</td>\n",
       "      <td>NaN</td>\n",
       "    </tr>\n",
       "    <tr>\n",
       "      <th>7</th>\n",
       "      <td>2;6;119.379;113.870;38.584;85.961;124.413;15.7...</td>\n",
       "      <td>NaN</td>\n",
       "      <td>NaN</td>\n",
       "      <td>NaN</td>\n",
       "    </tr>\n",
       "    <tr>\n",
       "      <th>8</th>\n",
       "      <td>3;2;218.856;124.381;33.973;148.274;162.044;1.0...</td>\n",
       "      <td>NaN</td>\n",
       "      <td>NaN</td>\n",
       "      <td>NaN</td>\n",
       "    </tr>\n",
       "    <tr>\n",
       "      <th>9</th>\n",
       "      <td>3;3;146.518;101.045;36.399;43.306;168.723;865;...</td>\n",
       "      <td>NaN</td>\n",
       "      <td>NaN</td>\n",
       "      <td>NaN</td>\n",
       "    </tr>\n",
       "  </tbody>\n",
       "</table>\n",
       "</div>"
      ],
      "text/plain": [
       "                       Week of the month (first week   second   third  \\\n",
       "0  1;4;316.307;223.270;61.543;175.586;302.448;0;6...      NaN     NaN   \n",
       "1  1;5;128.633;96.042;38.058;56.037;130.580;0;404...      NaN     NaN   \n",
       "2  1;6;43.651;84.375;21.826;25.125;82.461;1.386;1...      NaN     NaN   \n",
       "3  2;2;171.297;127.667;41.542;113.294;162.284;18....      NaN     NaN   \n",
       "4  2;3;90.532;113.526;37.679;56.618;116.220;6.459...      NaN     NaN   \n",
       "5  2;4;110.925;96.360;30.792;50.704;125.868;79;52...      NaN     NaN   \n",
       "6  2;5;144.124;118.919;43.304;66.371;153.368;0;46...      NaN     NaN   \n",
       "7  2;6;119.379;113.870;38.584;85.961;124.413;15.7...      NaN     NaN   \n",
       "8  3;2;218.856;124.381;33.973;148.274;162.044;1.0...      NaN     NaN   \n",
       "9  3;3;146.518;101.045;36.399;43.306;168.723;865;...      NaN     NaN   \n",
       "\n",
       "    fourth or fifth week;Day of the week (Monday to Friday);Non-urgent order;Urgent order;Order type A;Order type B;Order type C;Fiscal sector orders;Orders from the traffic controller sector;Banking orders (1);Banking orders (2);Banking orders (3);Target (Total orders)  \n",
       "0                                                NaN                                                                                                                                                                                                                            \n",
       "1                                                NaN                                                                                                                                                                                                                            \n",
       "2                                                NaN                                                                                                                                                                                                                            \n",
       "3                                                NaN                                                                                                                                                                                                                            \n",
       "4                                                NaN                                                                                                                                                                                                                            \n",
       "5                                                NaN                                                                                                                                                                                                                            \n",
       "6                                                NaN                                                                                                                                                                                                                            \n",
       "7                                                NaN                                                                                                                                                                                                                            \n",
       "8                                                NaN                                                                                                                                                                                                                            \n",
       "9                                                NaN                                                                                                                                                                                                                            "
      ]
     },
     "execution_count": 5,
     "metadata": {},
     "output_type": "execute_result"
    }
   ],
   "source": [
    "pd_data.head(10)"
   ]
  },
  {
   "cell_type": "code",
   "execution_count": 9,
   "id": "436fc301-47a6-4ac8-8621-225336f90317",
   "metadata": {},
   "outputs": [
    {
     "data": {
      "text/plain": [
       "Index(['Week of the month (first week', ' second', ' third',\n",
       "       ' fourth or fifth week;Day of the week (Monday to Friday);Non-urgent order;Urgent order;Order type A;Order type B;Order type C;Fiscal sector orders;Orders from the traffic controller sector;Banking orders (1);Banking orders (2);Banking orders (3);Target (Total orders)'],\n",
       "      dtype='object')"
      ]
     },
     "execution_count": 9,
     "metadata": {},
     "output_type": "execute_result"
    }
   ],
   "source": [
    "pd_data.columns"
   ]
  },
  {
   "cell_type": "code",
   "execution_count": 10,
   "id": "3772f8c5-826d-4c82-8194-b69816f49674",
   "metadata": {},
   "outputs": [],
   "source": [
    "cols = [1,2,3]\n",
    "pd_data.drop(pd_data.columns[cols],axis=1,inplace=True)"
   ]
  },
  {
   "cell_type": "code",
   "execution_count": 11,
   "id": "fe5c6657-f7e8-4c00-ad4f-dd3a66f214b6",
   "metadata": {},
   "outputs": [
    {
     "data": {
      "text/html": [
       "<div>\n",
       "<style scoped>\n",
       "    .dataframe tbody tr th:only-of-type {\n",
       "        vertical-align: middle;\n",
       "    }\n",
       "\n",
       "    .dataframe tbody tr th {\n",
       "        vertical-align: top;\n",
       "    }\n",
       "\n",
       "    .dataframe thead th {\n",
       "        text-align: right;\n",
       "    }\n",
       "</style>\n",
       "<table border=\"1\" class=\"dataframe\">\n",
       "  <thead>\n",
       "    <tr style=\"text-align: right;\">\n",
       "      <th></th>\n",
       "      <th>Week of the month (first week</th>\n",
       "    </tr>\n",
       "  </thead>\n",
       "  <tbody>\n",
       "    <tr>\n",
       "      <th>0</th>\n",
       "      <td>1;4;316.307;223.270;61.543;175.586;302.448;0;6...</td>\n",
       "    </tr>\n",
       "    <tr>\n",
       "      <th>1</th>\n",
       "      <td>1;5;128.633;96.042;38.058;56.037;130.580;0;404...</td>\n",
       "    </tr>\n",
       "  </tbody>\n",
       "</table>\n",
       "</div>"
      ],
      "text/plain": [
       "                       Week of the month (first week\n",
       "0  1;4;316.307;223.270;61.543;175.586;302.448;0;6...\n",
       "1  1;5;128.633;96.042;38.058;56.037;130.580;0;404..."
      ]
     },
     "execution_count": 11,
     "metadata": {},
     "output_type": "execute_result"
    }
   ],
   "source": [
    "pd_data.head(2)"
   ]
  },
  {
   "cell_type": "code",
   "execution_count": 12,
   "id": "db48d33f-d1f3-4e47-adbd-c5db0e2910b9",
   "metadata": {},
   "outputs": [],
   "source": [
    "pd_data[['week of the month','day of the week','non-urgent order','urgent order','order type A','order type B','order type C','fiscal sector orders','orders from traffic controller sector','banking orders 1','banking orders 2','banking orders 3','Target(total orders)']] = pd_data['Week of the month (first week'].str.split(\";\",expand=True,)\n",
    "pd_data.drop(pd_data.columns[0],axis=1,inplace=True)"
   ]
  },
  {
   "cell_type": "code",
   "execution_count": 13,
   "id": "ae0d622b-ea2e-4f99-b5d7-f9053fc59255",
   "metadata": {},
   "outputs": [
    {
     "data": {
      "text/html": [
       "<div>\n",
       "<style scoped>\n",
       "    .dataframe tbody tr th:only-of-type {\n",
       "        vertical-align: middle;\n",
       "    }\n",
       "\n",
       "    .dataframe tbody tr th {\n",
       "        vertical-align: top;\n",
       "    }\n",
       "\n",
       "    .dataframe thead th {\n",
       "        text-align: right;\n",
       "    }\n",
       "</style>\n",
       "<table border=\"1\" class=\"dataframe\">\n",
       "  <thead>\n",
       "    <tr style=\"text-align: right;\">\n",
       "      <th></th>\n",
       "      <th>week of the month</th>\n",
       "      <th>day of the week</th>\n",
       "      <th>non-urgent order</th>\n",
       "      <th>urgent order</th>\n",
       "      <th>order type A</th>\n",
       "      <th>order type B</th>\n",
       "      <th>order type C</th>\n",
       "      <th>fiscal sector orders</th>\n",
       "      <th>orders from traffic controller sector</th>\n",
       "      <th>banking orders 1</th>\n",
       "      <th>banking orders 2</th>\n",
       "      <th>banking orders 3</th>\n",
       "      <th>Target(total orders)</th>\n",
       "    </tr>\n",
       "  </thead>\n",
       "  <tbody>\n",
       "    <tr>\n",
       "      <th>0</th>\n",
       "      <td>1</td>\n",
       "      <td>4</td>\n",
       "      <td>316.307</td>\n",
       "      <td>223.270</td>\n",
       "      <td>61.543</td>\n",
       "      <td>175.586</td>\n",
       "      <td>302.448</td>\n",
       "      <td>0</td>\n",
       "      <td>65556</td>\n",
       "      <td>44914</td>\n",
       "      <td>188411</td>\n",
       "      <td>14793</td>\n",
       "      <td>539.577</td>\n",
       "    </tr>\n",
       "    <tr>\n",
       "      <th>1</th>\n",
       "      <td>1</td>\n",
       "      <td>5</td>\n",
       "      <td>128.633</td>\n",
       "      <td>96.042</td>\n",
       "      <td>38.058</td>\n",
       "      <td>56.037</td>\n",
       "      <td>130.580</td>\n",
       "      <td>0</td>\n",
       "      <td>40419</td>\n",
       "      <td>21399</td>\n",
       "      <td>89461</td>\n",
       "      <td>7679</td>\n",
       "      <td>224.675</td>\n",
       "    </tr>\n",
       "    <tr>\n",
       "      <th>2</th>\n",
       "      <td>1</td>\n",
       "      <td>6</td>\n",
       "      <td>43.651</td>\n",
       "      <td>84.375</td>\n",
       "      <td>21.826</td>\n",
       "      <td>25.125</td>\n",
       "      <td>82.461</td>\n",
       "      <td>1.386</td>\n",
       "      <td>11992</td>\n",
       "      <td>3452</td>\n",
       "      <td>21305</td>\n",
       "      <td>14947</td>\n",
       "      <td>129.412</td>\n",
       "    </tr>\n",
       "    <tr>\n",
       "      <th>3</th>\n",
       "      <td>2</td>\n",
       "      <td>2</td>\n",
       "      <td>171.297</td>\n",
       "      <td>127.667</td>\n",
       "      <td>41.542</td>\n",
       "      <td>113.294</td>\n",
       "      <td>162.284</td>\n",
       "      <td>18.156</td>\n",
       "      <td>49971</td>\n",
       "      <td>33703</td>\n",
       "      <td>69054</td>\n",
       "      <td>18423</td>\n",
       "      <td>317.120</td>\n",
       "    </tr>\n",
       "  </tbody>\n",
       "</table>\n",
       "</div>"
      ],
      "text/plain": [
       "  week of the month day of the week non-urgent order urgent order  \\\n",
       "0                 1               4          316.307      223.270   \n",
       "1                 1               5          128.633       96.042   \n",
       "2                 1               6           43.651       84.375   \n",
       "3                 2               2          171.297      127.667   \n",
       "\n",
       "  order type A order type B order type C fiscal sector orders  \\\n",
       "0       61.543      175.586      302.448                    0   \n",
       "1       38.058       56.037      130.580                    0   \n",
       "2       21.826       25.125       82.461                1.386   \n",
       "3       41.542      113.294      162.284               18.156   \n",
       "\n",
       "  orders from traffic controller sector banking orders 1 banking orders 2  \\\n",
       "0                                 65556            44914           188411   \n",
       "1                                 40419            21399            89461   \n",
       "2                                 11992             3452            21305   \n",
       "3                                 49971            33703            69054   \n",
       "\n",
       "  banking orders 3 Target(total orders)  \n",
       "0            14793              539.577  \n",
       "1             7679              224.675  \n",
       "2            14947              129.412  \n",
       "3            18423              317.120  "
      ]
     },
     "execution_count": 13,
     "metadata": {},
     "output_type": "execute_result"
    }
   ],
   "source": [
    "pd_data.head(4)\n"
   ]
  },
  {
   "cell_type": "code",
   "execution_count": 14,
   "id": "0acda1e7-c5cd-41df-8abf-28623ebcec0c",
   "metadata": {},
   "outputs": [
    {
     "name": "stdout",
     "output_type": "stream",
     "text": [
      "<class 'pandas.core.frame.DataFrame'>\n",
      "RangeIndex: 60 entries, 0 to 59\n",
      "Data columns (total 13 columns):\n",
      " #   Column                                 Non-Null Count  Dtype \n",
      "---  ------                                 --------------  ----- \n",
      " 0   week of the month                      60 non-null     object\n",
      " 1   day of the week                        60 non-null     object\n",
      " 2   non-urgent order                       60 non-null     object\n",
      " 3   urgent order                           60 non-null     object\n",
      " 4   order type A                           60 non-null     object\n",
      " 5   order type B                           60 non-null     object\n",
      " 6   order type C                           60 non-null     object\n",
      " 7   fiscal sector orders                   60 non-null     object\n",
      " 8   orders from traffic controller sector  60 non-null     object\n",
      " 9   banking orders 1                       60 non-null     object\n",
      " 10  banking orders 2                       60 non-null     object\n",
      " 11  banking orders 3                       60 non-null     object\n",
      " 12  Target(total orders)                   60 non-null     object\n",
      "dtypes: object(13)\n",
      "memory usage: 6.2+ KB\n"
     ]
    }
   ],
   "source": [
    "pd_data.info() # seems like there are no missing values but the attributes are object "
   ]
  },
  {
   "cell_type": "code",
   "execution_count": 15,
   "id": "000ee513-9005-4d27-be46-27843917711a",
   "metadata": {},
   "outputs": [],
   "source": [
    "# changing the attribute types into numeric \n",
    "pd_data['week of the month']=pd.to_numeric(pd_data['week of the month'])\n",
    "pd_data['day of the week']=pd.to_numeric(pd_data['day of the week'])\n",
    "pd_data['non-urgent order']=pd.to_numeric(pd_data['non-urgent order'])\n",
    "pd_data['urgent order']=pd.to_numeric(pd_data['urgent order'])\n",
    "pd_data['order type A']=pd.to_numeric(pd_data['order type A'])\n",
    "pd_data['order type B']=pd.to_numeric(pd_data['order type B'])\n",
    "pd_data['order type C']=pd.to_numeric(pd_data['order type C'])\n",
    "pd_data['fiscal sector orders']=pd.to_numeric(pd_data['fiscal sector orders'])\n",
    "pd_data['orders from traffic controller sector']=pd.to_numeric(pd_data['orders from traffic controller sector'])\n",
    "pd_data['banking orders 1']=pd.to_numeric(pd_data['banking orders 1'])\n",
    "pd_data['banking orders 2']=pd.to_numeric(pd_data['banking orders 2'])\n",
    "pd_data['banking orders 3']=pd.to_numeric(pd_data['banking orders 3'])\n",
    "pd_data['Target(total orders)']=pd.to_numeric(pd_data['Target(total orders)'])"
   ]
  },
  {
   "cell_type": "code",
   "execution_count": 16,
   "id": "6b7c0c04-777c-4267-8003-6c4a9b03ecd8",
   "metadata": {},
   "outputs": [
    {
     "name": "stdout",
     "output_type": "stream",
     "text": [
      "<class 'pandas.core.frame.DataFrame'>\n",
      "RangeIndex: 60 entries, 0 to 59\n",
      "Data columns (total 13 columns):\n",
      " #   Column                                 Non-Null Count  Dtype  \n",
      "---  ------                                 --------------  -----  \n",
      " 0   week of the month                      60 non-null     int64  \n",
      " 1   day of the week                        60 non-null     int64  \n",
      " 2   non-urgent order                       60 non-null     float64\n",
      " 3   urgent order                           60 non-null     float64\n",
      " 4   order type A                           60 non-null     float64\n",
      " 5   order type B                           60 non-null     float64\n",
      " 6   order type C                           60 non-null     float64\n",
      " 7   fiscal sector orders                   60 non-null     float64\n",
      " 8   orders from traffic controller sector  60 non-null     int64  \n",
      " 9   banking orders 1                       60 non-null     int64  \n",
      " 10  banking orders 2                       60 non-null     int64  \n",
      " 11  banking orders 3                       60 non-null     int64  \n",
      " 12  Target(total orders)                   60 non-null     float64\n",
      "dtypes: float64(7), int64(6)\n",
      "memory usage: 6.2 KB\n"
     ]
    }
   ],
   "source": [
    "pd_data.info()"
   ]
  },
  {
   "cell_type": "markdown",
   "id": "41edf93e-eabf-477a-9f6b-04744874b856",
   "metadata": {},
   "source": [
    "## visualizing the unique values in attributes"
   ]
  },
  {
   "cell_type": "code",
   "execution_count": 17,
   "id": "2bfeece4-001d-4b06-bbff-69f966d16ea8",
   "metadata": {},
   "outputs": [
    {
     "data": {
      "text/plain": [
       "array([[<AxesSubplot:title={'center':'week of the month'}>,\n",
       "        <AxesSubplot:title={'center':'day of the week'}>,\n",
       "        <AxesSubplot:title={'center':'non-urgent order'}>,\n",
       "        <AxesSubplot:title={'center':'urgent order'}>],\n",
       "       [<AxesSubplot:title={'center':'order type A'}>,\n",
       "        <AxesSubplot:title={'center':'order type B'}>,\n",
       "        <AxesSubplot:title={'center':'order type C'}>,\n",
       "        <AxesSubplot:title={'center':'fiscal sector orders'}>],\n",
       "       [<AxesSubplot:title={'center':'orders from traffic controller sector'}>,\n",
       "        <AxesSubplot:title={'center':'banking orders 1'}>,\n",
       "        <AxesSubplot:title={'center':'banking orders 2'}>,\n",
       "        <AxesSubplot:title={'center':'banking orders 3'}>],\n",
       "       [<AxesSubplot:title={'center':'Target(total orders)'}>,\n",
       "        <AxesSubplot:>, <AxesSubplot:>, <AxesSubplot:>]], dtype=object)"
      ]
     },
     "execution_count": 17,
     "metadata": {},
     "output_type": "execute_result"
    },
    {
     "data": {
      "image/png": "[encoded data removed]",
      "text/plain": [
       "<Figure size 720x720 with 16 Axes>"
      ]
     },
     "metadata": {
      "needs_background": "light"
     },
     "output_type": "display_data"
    }
   ],
   "source": [
    "pd_data.hist(figsize=(10,10)) "
   ]
  },
  {
   "cell_type": "markdown",
   "id": "b19a08ef-ea17-414b-8290-5889cbfe375c",
   "metadata": {},
   "source": [
    "## Visualizing correlation matrix"
   ]
  },
  {
   "cell_type": "code",
   "execution_count": 18,
   "id": "e7951140-15c9-46d6-bc95-f316be75cb43",
   "metadata": {},
   "outputs": [
    {
     "data": {
      "image/png": "[encoded data removed]",
      "text/plain": [
       "<Figure size 720x720 with 2 Axes>"
      ]
     },
     "metadata": {
      "needs_background": "light"
     },
     "output_type": "display_data"
    }
   ],
   "source": [
    "correlations = pd_data.corr()\n",
    "fig = plt.figure(figsize=(10,10))\n",
    "ax = fig.add_subplot(111)\n",
    "cax = ax.matshow(correlations, vmin=-1, vmax=1)\n",
    "fig.colorbar(cax)\n",
    "plt.show()"
   ]
  },
  {
   "cell_type": "markdown",
   "id": "07804cd2-6663-4773-ad27-8d07182f4939",
   "metadata": {},
   "source": [
    "## Heatmap"
   ]
  },
  {
   "cell_type": "code",
   "execution_count": 1,
   "id": "59323d1c-daaf-49b7-a757-47265a3a33f0",
   "metadata": {},
   "outputs": [],
   "source": [
    "import seaborn as sns"
   ]
  },
  {
   "cell_type": "code",
   "execution_count": null,
   "id": "14b0cb92-d325-4b06-9f50-9f4ccb19dd8d",
   "metadata": {},
   "outputs": [],
   "source": [
    "plt.figure(figsize=(18,12))\n",
    "sns.heatmap(pd_data.corr(), annot=True)\n",
    "plt.xticks(rotation=90)\n",
    "plt.show()"
   ]
  },
  {
   "cell_type": "markdown",
   "id": "9fd89f6f-714e-4f25-b1a2-dacd15d0e8e4",
   "metadata": {},
   "source": [
    "## Splitting into train and test"
   ]
  },
  {
   "cell_type": "code",
   "execution_count": 19,
   "id": "50007552-7640-4166-9438-08a0970716c5",
   "metadata": {},
   "outputs": [],
   "source": [
    "pd_data_X = pd_data[pd_data.columns[0:-2]]\n",
    "pd_data_Y = pd_data[pd_data.columns[-1]]"
   ]
  },
  {
   "cell_type": "code",
   "execution_count": 20,
   "id": "7aa636d5-0f61-4639-9b21-a32383715929",
   "metadata": {},
   "outputs": [],
   "source": [
    "from sklearn.model_selection import train_test_split"
   ]
  },
  {
   "cell_type": "code",
   "execution_count": 21,
   "id": "c2560faf-c63b-4768-a3bb-9f5ef2c97317",
   "metadata": {},
   "outputs": [],
   "source": [
    "X_train, X_test, y_train, y_test = train_test_split(pd_data_X, pd_data_Y,\n",
    "                                                    train_size=0.85, test_size=0.15, random_state=42)"
   ]
  },
  {
   "cell_type": "code",
   "execution_count": 26,
   "id": "e601e2a5-e545-46e2-a23d-e9940dbf9d18",
   "metadata": {},
   "outputs": [],
   "source": [
    "scaler = StandardScaler()\n",
    "scaler.fit(pd_data_X)\n",
    "X_train_s = pd.DataFrame(scaler.fit_transform(pd_data_X),columns = pd_data_X.columns)\n",
    "\n",
    "X_test_s = pd.DataFrame(scaler.fit_transform(X_test),columns = X_test.columns)"
   ]
  },
  {
   "cell_type": "markdown",
   "id": "11d1ebdb-3a63-4afd-8c2a-bc59edf11043",
   "metadata": {},
   "source": [
    "# MODELS"
   ]
  },
  {
   "cell_type": "markdown",
   "id": "45b5c889-95a9-49f0-9aed-7bdeb1d577c7",
   "metadata": {},
   "source": [
    "### Search space"
   ]
  },
  {
   "cell_type": "code",
   "execution_count": null,
   "id": "377e1e0c-69c7-422d-97ca-2eaf61fd8cc3",
   "metadata": {},
   "outputs": [],
   "source": [
    "SVR_parameters_ranges = {'kernel':['linear', 'poly', 'rbf', 'sigmoid'], \n",
    "                         'C': [0.00001,0.0001,0.001,0.01,0.1,1], 'gamma': ['scale','auto']}\n",
    "\n",
    "RFR_parameters_ranges = {'max_depth': np.arange(1,250), 'n_estimators': np.arange(1,250), \n",
    "                    'criterion': ['mae','mse'], 'max_features' : [\"sqrt\",\"log2\"]}\n",
    "\n",
    "KNNR_parameters_ranges = {'n_neighbors':np.arange(1,40), 'weights' : ['uniform', 'distance'], \n",
    "                          'algorithm': ['ball_tree', 'kd_tree', 'brute'],'leaf_size': np.arange(1,50),\n",
    "                         'metric' : ['euclidean', 'manhattan', 'minkowski']}"
   ]
  },
  {
   "cell_type": "markdown",
   "id": "5956a88e-1e8a-4d5a-97bb-5ad82f94ca0e",
   "metadata": {},
   "source": [
    "### Objective functions"
   ]
  },
  {
   "cell_type": "code",
   "execution_count": 21,
   "id": "d3aec4c0-eda9-42e5-babc-a2591916a149",
   "metadata": {},
   "outputs": [],
   "source": [
    "def objective_function_random_forest(parameters,pd_train_data_X, pd_train_data_Y):\n",
    "\n",
    "    Forest_regre = RandomForestRegressor(**parameters, random_state=0)\n",
    "    scores = cross_val_score(Forest_regre, pd_train_data_X, pd_train_data_Y.values.ravel(), cv=5,scoring='neg_root_mean_squared_error')\n",
    "    return scores.mean()\n",
    "\n",
    "def objective_function_SVC(parameters,pd_train_data_X, pd_train_data_Y):\n",
    "    sv = SVR(**parameters)\n",
    "    scores = cross_val_score(sv, pd_train_data_X, pd_train_data_Y.values.ravel(), cv=5,scoring='neg_root_mean_squared_error')\n",
    "    return scores.mean()\n",
    "\n",
    "def objective_function_KNN(parameters,pd_train_data_X, pd_train_data_Y):\n",
    "    knn_clas = KNeighborsRegressor(**parameters)\n",
    "    scores = cross_val_score(knn_clas, pd_train_data_X, pd_train_data_Y.values.ravel(), cv=5,scoring='neg_root_mean_squared_error')\n",
    "    return scores.mean()\n"
   ]
  },
  {
   "cell_type": "markdown",
   "id": "a369e130-fe86-410f-808c-250378be5950",
   "metadata": {},
   "source": [
    "### Bayesian optimalization extra "
   ]
  },
  {
   "cell_type": "code",
   "execution_count": 22,
   "id": "39933c04-9f51-42f9-8141-06079343f714",
   "metadata": {},
   "outputs": [],
   "source": [
    "def acquisition_Function(random_param,real_X,real_Y,surrogate):\n",
    "    #get the best parameters so far\n",
    "    score_pred = surrogate.predict(real_X)\n",
    "    best = max(real_Y)\n",
    "\n",
    "            \n",
    "    #predict accurcy \n",
    "    with warnings.catch_warnings():\n",
    "        warnings.simplefilter(\"ignore\")\n",
    "        mu, std = surrogate.predict(random_param, return_std=True)\n",
    "  \n",
    "        mu = mu[:, 0]\n",
    "    \n",
    "        probs = norm.cdf((mu - best) / (std))\n",
    "    \n",
    "    ix = np.argmax(probs)\n",
    "    \n",
    "    return random_param[ix]\n",
    "\n",
    "pr_model = GaussianProcessRegressor(random_state=0)"
   ]
  },
  {
   "cell_type": "markdown",
   "id": "d57ad041-4799-4c87-a7c3-07709ec0e40a",
   "metadata": {},
   "source": [
    "## Optimization"
   ]
  },
  {
   "cell_type": "code",
   "execution_count": 23,
   "id": "faca3afc-d435-4862-aa0d-8594bd489bb4",
   "metadata": {},
   "outputs": [],
   "source": [
    "best_candidates_SA = []\n",
    "best_scores_SA = []\n",
    "best_metro_SA = []\n",
    "times_SA = []\n",
    "\n",
    "best_SA = []\n",
    "\n",
    "best_candidates_Bay = []\n",
    "best_score_Bay = []\n",
    "times_Bay = []\n",
    "\n",
    "best_Bay = []\n"
   ]
  },
  {
   "cell_type": "code",
   "execution_count": 27,
   "id": "7719a518-cd8a-4db5-be31-80bf783335b2",
   "metadata": {},
   "outputs": [],
   "source": [
    "Train_scaled_X = X_train_s \n",
    "Test_scaled_X = X_test_s\n",
    "y_train = y_train\n",
    "y_test= y_test"
   ]
  },
  {
   "cell_type": "code",
   "execution_count": null,
   "id": "0cf2d0f7-b3a5-42b5-b653-714375aa4f91",
   "metadata": {},
   "outputs": [],
   "source": [
    "for callss in range(20):\n",
    "    SAs = [SimulatedAny(objective_function_random_forest,RFR_parameters_ranges),\n",
    "       SimulatedAny(objective_function_SVC, SVR_parameters_ranges),\n",
    "       SimulatedAny(objective_function_KNN,KNNR_parameters_ranges)]\n",
    "\n",
    "    Bays = [Bayes_Optimalizator(objective_function_random_forest,pr_model,acquisition_Function,RFR_parameters_ranges),\n",
    "            Bayes_Optimalizator(objective_function_SVC,pr_model,acquisition_Function,SVR_parameters_ranges),\n",
    "            Bayes_Optimalizator(objective_function_KNN,pr_model,acquisition_Function,KNNR_parameters_ranges)]\n",
    "    \n",
    "\n",
    "    ids = 1\n",
    "\n",
    "    for id_x,x in enumerate(SAs):\n",
    "        st_time = time.time()\n",
    "        scor,candi,metro = x.run(100,5,100,Train_scaled_X,y_train)\n",
    "        so_time = time.time()\n",
    "\n",
    "        all_t = so_time - st_time\n",
    "        times_SA.append(all_t)\n",
    "\n",
    "        best_candidates_SA.append(candi[-1])\n",
    "        best_SA.append(scor[-1])\n",
    "        best_scores_SA.append(scor)\n",
    "        best_metro_SA.append(metro)\n",
    "\n",
    "        plt.figure()\n",
    "        plt.plot(best_scores_SA[-1])\n",
    "        plt.xlabel('Iterations')\n",
    "        plt.ylabel('n-RMSe')\n",
    "        plt.grid()\n",
    "        mod = ['SA-RFR','SA-SVR','SA-KNN']\n",
    "        plt.title('{}__TIME-{}__BEST-SCORE-{}\\n{}'.format(mod[id_x],times_SA[-1],best_SA[-1],best_candidates_SA[-1]))\n",
    "        plt.savefig('{}-call_{}.Model_{}_score={}_time{}.png'.format(callss,ids,mod[id_x],best_SA[-1],times_SA[-1])) \n",
    "        ids += 1\n",
    "\n",
    "\n",
    "\n",
    "\n",
    "    for id_x,x in enumerate(Bays):\n",
    "        st_time = time.time()\n",
    "        score,par,best = x.optimaze(100,Train_scaled_X,y_train)\n",
    "        so_time = time.time()\n",
    "\n",
    "        all_t = so_time - st_time\n",
    "        times_Bay.append(all_t)\n",
    "\n",
    "        best_candidates_Bay.append(par[-1])\n",
    "        best_score_Bay.append(best)    \n",
    "\n",
    "        best_Bay.append(best[-1])\n",
    "\n",
    "        plt.figure()\n",
    "        plt.plot(best_score_Bay[-1])\n",
    "        plt.xlabel('Iterations')\n",
    "        plt.ylabel('n-RMSe')\n",
    "        plt.grid()\n",
    "        mod = ['Bay-RFR','BA-SVR','BA-KNN']\n",
    "        plt.title('{}__TIME-{}__BEST-SCORE-{}\\n{}'.format(mod[id_x],times_Bay[-1],best_Bay[-1],best_candidates_Bay[-1]))\n",
    "        plt.savefig('{}-call_{}.Model_{}_score={}_time{}.png'.format(callss,ids,mod[id_x],best_Bay[-1],times_Bay[-1]))\n",
    "        ids += 1            \n",
    "\n"
   ]
  },
  {
   "cell_type": "markdown",
   "id": "4c86c4c5-e97a-44c7-a9cb-aaa070fb1ac1",
   "metadata": {},
   "source": [
    "## Evaluation"
   ]
  },
  {
   "cell_type": "code",
   "execution_count": null,
   "id": "95e9e58d-b840-4324-acb5-4afc2d23a49e",
   "metadata": {},
   "outputs": [],
   "source": [
    "select_SA_BEST = np.argmax(best_SA)\n",
    "select_BA_BEST = np.argmax(best_Bay)\n",
    "\n",
    "model = 0\n",
    "param = 0\n",
    "\n",
    "if best_SA[select_SA_BEST] > best_Bay[select_BA_BEST]:\n",
    "    model = select_SA_BEST\n",
    "    param = best_candidates_SA[select_SA_BEST]\n",
    "else:\n",
    "    model = select_BA_BEST\n",
    "    param =  best_candidates_Bay[select_BA_BEST]"
   ]
  },
  {
   "cell_type": "code",
   "execution_count": 29,
   "id": "8105ce81-8cdb-453a-ac2b-563b732077cf",
   "metadata": {},
   "outputs": [],
   "source": [
    "def evaluate_best(id_mod, pd_train_X,pd_train_Y,pd_test_X,pd_test_Y,parameters):\n",
    "    if id_mod == 0:\n",
    "        model = RandomForestRegressor(**parameters, random_state=0)\n",
    "    elif id_mod == 1:\n",
    "        model = SVR(**parameters)\n",
    "    elif id_mod == 2:\n",
    "        model =KNeighborsRegressor(**parameters)\n",
    "        \n",
    "    res = model.fit(pd_train_X,pd_train_Y.values.ravel())\n",
    "    \n",
    "    pred = res.predict(pd_test_X)\n",
    "    \n",
    "    return -np.sqrt(mean_squared_error(pd_test_Y.values.ravel(),pred))"
   ]
  },
  {
   "cell_type": "code",
   "execution_count": 36,
   "id": "0d951323-0142-4021-a7ca-a7c26b21c503",
   "metadata": {},
   "outputs": [],
   "source": [
    "param = {'kernel': 'linear', 'C': 1, 'gamma': 'scale' }"
   ]
  },
  {
   "cell_type": "code",
   "execution_count": 37,
   "id": "9a12d725-a44d-44ec-b6c5-007b25c5039d",
   "metadata": {},
   "outputs": [
    {
     "name": "stdout",
     "output_type": "stream",
     "text": [
      "-75.86669061617035\n"
     ]
    }
   ],
   "source": [
    "print(evaluate_best(1,Train_scaled_X,y_train,Test_scaled_X,y_test,param))"
   ]
  },
  {
   "cell_type": "code",
   "execution_count": null,
   "id": "ee9744f3-5363-4993-a45b-4470318219df",
   "metadata": {},
   "outputs": [],
   "source": []
  }
 ],
 "metadata": {
  "kernelspec": {
   "display_name": "Python 3",
   "language": "python",
   "name": "python3"
  },
  "language_info": {
   "codemirror_mode": {
    "name": "ipython",
    "version": 3
   },
   "file_extension": ".py",
   "mimetype": "text/x-python",
   "name": "python",
   "nbconvert_exporter": "python",
   "pygments_lexer": "ipython3",
   "version": "3.8.7"
  }
 },
 "nbformat": 4,
 "nbformat_minor": 5
}
