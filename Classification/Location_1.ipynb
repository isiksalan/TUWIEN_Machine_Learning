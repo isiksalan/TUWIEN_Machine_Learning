{
 "cells": [
  {
   "cell_type": "code",
   "execution_count": 163,
   "metadata": {},
   "outputs": [],
   "source": [
    "import numpy as np\n",
    "import pandas as pd\n",
    "import os\n",
    "import time\n",
    "import matplotlib.pyplot as plt\n",
    "\n",
    "from sklearn.ensemble import RandomForestRegressor\n",
    "from sklearn.model_selection import KFold\n",
    "from sklearn.linear_model import LogisticRegression\n",
    "from sklearn.tree import DecisionTreeClassifier\n",
    "from sklearn.linear_model import LogisticRegression\n",
    "from sklearn.neural_network import MLPClassifier\n",
    "from sklearn.neighbors import KNeighborsClassifier\n",
    "from sklearn.metrics import roc_auc_score\n",
    "from sklearn.model_selection import GridSearchCV\n",
    "from sklearn.decomposition import PCA, KernelPCA\n",
    "from sklearn.ensemble import RandomForestClassifier\n",
    "from sklearn.ensemble import ExtraTreesClassifier\n",
    "from sklearn.naive_bayes import GaussianNB\n",
    "from sklearn.svm import SVC\n",
    "from sklearn.ensemble import IsolationForest\n",
    "import seaborn as sns\n",
    "import matplotlib.pyplot as plt\n"
   ]
  },
  {
   "cell_type": "code",
   "execution_count": 164,
   "metadata": {},
   "outputs": [],
   "source": [
    "pd_train_data = pd.read_csv(\"Location446-30cls-5k.lrn.csv\")\n",
    "#pd_test_data_labels = pd.read_csv(path + '/' + all_files[1])\n",
    "pd_test_data = pd.read_csv(\"Location446-30cls-5k.tes.csv\")\n",
    "\n",
    "pd_train_data_X = pd_train_data[pd_train_data.columns[2:]] # remove id and class\n",
    "pd_test_data_X = pd_test_data[pd_test_data.columns[1:]] # remove id\n",
    "\n",
    "pd_train_data_Y = pd_train_data[pd_train_data.columns[1]]\n",
    "\n",
    "\n",
    "pd_train_data = pd_train_data[pd_train_data.columns[1:]]\n"
   ]
  },
  {
   "cell_type": "code",
   "execution_count": 5,
   "metadata": {},
   "outputs": [
    {
     "data": {
      "text/html": [
       "<div>\n",
       "<style scoped>\n",
       "    .dataframe tbody tr th:only-of-type {\n",
       "        vertical-align: middle;\n",
       "    }\n",
       "\n",
       "    .dataframe tbody tr th {\n",
       "        vertical-align: top;\n",
       "    }\n",
       "\n",
       "    .dataframe thead th {\n",
       "        text-align: right;\n",
       "    }\n",
       "</style>\n",
       "<table border=\"1\" class=\"dataframe\">\n",
       "  <thead>\n",
       "    <tr style=\"text-align: right;\">\n",
       "      <th></th>\n",
       "      <th>1</th>\n",
       "      <th>2</th>\n",
       "      <th>3</th>\n",
       "      <th>4</th>\n",
       "      <th>5</th>\n",
       "      <th>6</th>\n",
       "      <th>7</th>\n",
       "      <th>8</th>\n",
       "      <th>9</th>\n",
       "      <th>10</th>\n",
       "      <th>...</th>\n",
       "      <th>437</th>\n",
       "      <th>438</th>\n",
       "      <th>439</th>\n",
       "      <th>440</th>\n",
       "      <th>441</th>\n",
       "      <th>442</th>\n",
       "      <th>443</th>\n",
       "      <th>444</th>\n",
       "      <th>445</th>\n",
       "      <th>446</th>\n",
       "    </tr>\n",
       "  </thead>\n",
       "  <tbody>\n",
       "    <tr>\n",
       "      <th>count</th>\n",
       "      <td>4000.000000</td>\n",
       "      <td>4000.000000</td>\n",
       "      <td>4000.000000</td>\n",
       "      <td>4000.0000</td>\n",
       "      <td>4000.000000</td>\n",
       "      <td>4000.000000</td>\n",
       "      <td>4000.000000</td>\n",
       "      <td>4000.000000</td>\n",
       "      <td>4000.000000</td>\n",
       "      <td>4000.000000</td>\n",
       "      <td>...</td>\n",
       "      <td>4000.000000</td>\n",
       "      <td>4000.000000</td>\n",
       "      <td>4000.000000</td>\n",
       "      <td>4000.000000</td>\n",
       "      <td>4000.000000</td>\n",
       "      <td>4000.000000</td>\n",
       "      <td>4000.000000</td>\n",
       "      <td>4000.000000</td>\n",
       "      <td>4000.000000</td>\n",
       "      <td>4000.000000</td>\n",
       "    </tr>\n",
       "    <tr>\n",
       "      <th>mean</th>\n",
       "      <td>0.056250</td>\n",
       "      <td>0.179250</td>\n",
       "      <td>0.048000</td>\n",
       "      <td>0.5310</td>\n",
       "      <td>0.096000</td>\n",
       "      <td>0.107000</td>\n",
       "      <td>0.030000</td>\n",
       "      <td>0.056750</td>\n",
       "      <td>0.162750</td>\n",
       "      <td>0.063500</td>\n",
       "      <td>...</td>\n",
       "      <td>0.036500</td>\n",
       "      <td>0.052000</td>\n",
       "      <td>0.042500</td>\n",
       "      <td>0.047500</td>\n",
       "      <td>0.060500</td>\n",
       "      <td>0.047000</td>\n",
       "      <td>0.202500</td>\n",
       "      <td>0.064750</td>\n",
       "      <td>0.124000</td>\n",
       "      <td>0.059750</td>\n",
       "    </tr>\n",
       "    <tr>\n",
       "      <th>std</th>\n",
       "      <td>0.230433</td>\n",
       "      <td>0.383609</td>\n",
       "      <td>0.213793</td>\n",
       "      <td>0.4991</td>\n",
       "      <td>0.294628</td>\n",
       "      <td>0.309152</td>\n",
       "      <td>0.170609</td>\n",
       "      <td>0.231393</td>\n",
       "      <td>0.369184</td>\n",
       "      <td>0.243891</td>\n",
       "      <td>...</td>\n",
       "      <td>0.187554</td>\n",
       "      <td>0.222055</td>\n",
       "      <td>0.201752</td>\n",
       "      <td>0.212732</td>\n",
       "      <td>0.238441</td>\n",
       "      <td>0.211665</td>\n",
       "      <td>0.401913</td>\n",
       "      <td>0.246115</td>\n",
       "      <td>0.329623</td>\n",
       "      <td>0.237053</td>\n",
       "    </tr>\n",
       "    <tr>\n",
       "      <th>min</th>\n",
       "      <td>0.000000</td>\n",
       "      <td>0.000000</td>\n",
       "      <td>0.000000</td>\n",
       "      <td>0.0000</td>\n",
       "      <td>0.000000</td>\n",
       "      <td>0.000000</td>\n",
       "      <td>0.000000</td>\n",
       "      <td>0.000000</td>\n",
       "      <td>0.000000</td>\n",
       "      <td>0.000000</td>\n",
       "      <td>...</td>\n",
       "      <td>0.000000</td>\n",
       "      <td>0.000000</td>\n",
       "      <td>0.000000</td>\n",
       "      <td>0.000000</td>\n",
       "      <td>0.000000</td>\n",
       "      <td>0.000000</td>\n",
       "      <td>0.000000</td>\n",
       "      <td>0.000000</td>\n",
       "      <td>0.000000</td>\n",
       "      <td>0.000000</td>\n",
       "    </tr>\n",
       "    <tr>\n",
       "      <th>25%</th>\n",
       "      <td>0.000000</td>\n",
       "      <td>0.000000</td>\n",
       "      <td>0.000000</td>\n",
       "      <td>0.0000</td>\n",
       "      <td>0.000000</td>\n",
       "      <td>0.000000</td>\n",
       "      <td>0.000000</td>\n",
       "      <td>0.000000</td>\n",
       "      <td>0.000000</td>\n",
       "      <td>0.000000</td>\n",
       "      <td>...</td>\n",
       "      <td>0.000000</td>\n",
       "      <td>0.000000</td>\n",
       "      <td>0.000000</td>\n",
       "      <td>0.000000</td>\n",
       "      <td>0.000000</td>\n",
       "      <td>0.000000</td>\n",
       "      <td>0.000000</td>\n",
       "      <td>0.000000</td>\n",
       "      <td>0.000000</td>\n",
       "      <td>0.000000</td>\n",
       "    </tr>\n",
       "    <tr>\n",
       "      <th>50%</th>\n",
       "      <td>0.000000</td>\n",
       "      <td>0.000000</td>\n",
       "      <td>0.000000</td>\n",
       "      <td>1.0000</td>\n",
       "      <td>0.000000</td>\n",
       "      <td>0.000000</td>\n",
       "      <td>0.000000</td>\n",
       "      <td>0.000000</td>\n",
       "      <td>0.000000</td>\n",
       "      <td>0.000000</td>\n",
       "      <td>...</td>\n",
       "      <td>0.000000</td>\n",
       "      <td>0.000000</td>\n",
       "      <td>0.000000</td>\n",
       "      <td>0.000000</td>\n",
       "      <td>0.000000</td>\n",
       "      <td>0.000000</td>\n",
       "      <td>0.000000</td>\n",
       "      <td>0.000000</td>\n",
       "      <td>0.000000</td>\n",
       "      <td>0.000000</td>\n",
       "    </tr>\n",
       "    <tr>\n",
       "      <th>75%</th>\n",
       "      <td>0.000000</td>\n",
       "      <td>0.000000</td>\n",
       "      <td>0.000000</td>\n",
       "      <td>1.0000</td>\n",
       "      <td>0.000000</td>\n",
       "      <td>0.000000</td>\n",
       "      <td>0.000000</td>\n",
       "      <td>0.000000</td>\n",
       "      <td>0.000000</td>\n",
       "      <td>0.000000</td>\n",
       "      <td>...</td>\n",
       "      <td>0.000000</td>\n",
       "      <td>0.000000</td>\n",
       "      <td>0.000000</td>\n",
       "      <td>0.000000</td>\n",
       "      <td>0.000000</td>\n",
       "      <td>0.000000</td>\n",
       "      <td>0.000000</td>\n",
       "      <td>0.000000</td>\n",
       "      <td>0.000000</td>\n",
       "      <td>0.000000</td>\n",
       "    </tr>\n",
       "    <tr>\n",
       "      <th>max</th>\n",
       "      <td>1.000000</td>\n",
       "      <td>1.000000</td>\n",
       "      <td>1.000000</td>\n",
       "      <td>1.0000</td>\n",
       "      <td>1.000000</td>\n",
       "      <td>1.000000</td>\n",
       "      <td>1.000000</td>\n",
       "      <td>1.000000</td>\n",
       "      <td>1.000000</td>\n",
       "      <td>1.000000</td>\n",
       "      <td>...</td>\n",
       "      <td>1.000000</td>\n",
       "      <td>1.000000</td>\n",
       "      <td>1.000000</td>\n",
       "      <td>1.000000</td>\n",
       "      <td>1.000000</td>\n",
       "      <td>1.000000</td>\n",
       "      <td>1.000000</td>\n",
       "      <td>1.000000</td>\n",
       "      <td>1.000000</td>\n",
       "      <td>1.000000</td>\n",
       "    </tr>\n",
       "  </tbody>\n",
       "</table>\n",
       "<p>8 rows × 446 columns</p>\n",
       "</div>"
      ],
      "text/plain": [
       "                 1            2            3          4            5  \\\n",
       "count  4000.000000  4000.000000  4000.000000  4000.0000  4000.000000   \n",
       "mean      0.056250     0.179250     0.048000     0.5310     0.096000   \n",
       "std       0.230433     0.383609     0.213793     0.4991     0.294628   \n",
       "min       0.000000     0.000000     0.000000     0.0000     0.000000   \n",
       "25%       0.000000     0.000000     0.000000     0.0000     0.000000   \n",
       "50%       0.000000     0.000000     0.000000     1.0000     0.000000   \n",
       "75%       0.000000     0.000000     0.000000     1.0000     0.000000   \n",
       "max       1.000000     1.000000     1.000000     1.0000     1.000000   \n",
       "\n",
       "                 6            7            8            9           10  ...  \\\n",
       "count  4000.000000  4000.000000  4000.000000  4000.000000  4000.000000  ...   \n",
       "mean      0.107000     0.030000     0.056750     0.162750     0.063500  ...   \n",
       "std       0.309152     0.170609     0.231393     0.369184     0.243891  ...   \n",
       "min       0.000000     0.000000     0.000000     0.000000     0.000000  ...   \n",
       "25%       0.000000     0.000000     0.000000     0.000000     0.000000  ...   \n",
       "50%       0.000000     0.000000     0.000000     0.000000     0.000000  ...   \n",
       "75%       0.000000     0.000000     0.000000     0.000000     0.000000  ...   \n",
       "max       1.000000     1.000000     1.000000     1.000000     1.000000  ...   \n",
       "\n",
       "               437          438          439          440          441  \\\n",
       "count  4000.000000  4000.000000  4000.000000  4000.000000  4000.000000   \n",
       "mean      0.036500     0.052000     0.042500     0.047500     0.060500   \n",
       "std       0.187554     0.222055     0.201752     0.212732     0.238441   \n",
       "min       0.000000     0.000000     0.000000     0.000000     0.000000   \n",
       "25%       0.000000     0.000000     0.000000     0.000000     0.000000   \n",
       "50%       0.000000     0.000000     0.000000     0.000000     0.000000   \n",
       "75%       0.000000     0.000000     0.000000     0.000000     0.000000   \n",
       "max       1.000000     1.000000     1.000000     1.000000     1.000000   \n",
       "\n",
       "               442          443          444          445          446  \n",
       "count  4000.000000  4000.000000  4000.000000  4000.000000  4000.000000  \n",
       "mean      0.047000     0.202500     0.064750     0.124000     0.059750  \n",
       "std       0.211665     0.401913     0.246115     0.329623     0.237053  \n",
       "min       0.000000     0.000000     0.000000     0.000000     0.000000  \n",
       "25%       0.000000     0.000000     0.000000     0.000000     0.000000  \n",
       "50%       0.000000     0.000000     0.000000     0.000000     0.000000  \n",
       "75%       0.000000     0.000000     0.000000     0.000000     0.000000  \n",
       "max       1.000000     1.000000     1.000000     1.000000     1.000000  \n",
       "\n",
       "[8 rows x 446 columns]"
      ]
     },
     "execution_count": 5,
     "metadata": {},
     "output_type": "execute_result"
    }
   ],
   "source": [
    "#description of data\n",
    "pd_train_data_X.describe()"
   ]
  },
  {
   "cell_type": "code",
   "execution_count": 6,
   "metadata": {},
   "outputs": [],
   "source": [
    "#checking for nan values\n",
    "np.where(pd_train_data_X.count() != 4000)  #it seems that dataset does not contain any nan Values\n",
    "\n",
    "for x in pd_train_data_X:\n",
    "    if len(pd_train_data_X.groupby(['1']).size()) != 2:\n",
    "        \n",
    "        \n",
    "        print('more thank 2 values in column')\n",
    "        break\n",
    "#it seemns that in each column are only two values"
   ]
  },
  {
   "cell_type": "code",
   "execution_count": 7,
   "metadata": {},
   "outputs": [
    {
     "data": {
      "text/html": [
       "<div>\n",
       "<style scoped>\n",
       "    .dataframe tbody tr th:only-of-type {\n",
       "        vertical-align: middle;\n",
       "    }\n",
       "\n",
       "    .dataframe tbody tr th {\n",
       "        vertical-align: top;\n",
       "    }\n",
       "\n",
       "    .dataframe thead th {\n",
       "        text-align: right;\n",
       "    }\n",
       "</style>\n",
       "<table border=\"1\" class=\"dataframe\">\n",
       "  <thead>\n",
       "    <tr style=\"text-align: right;\">\n",
       "      <th></th>\n",
       "      <th>class</th>\n",
       "    </tr>\n",
       "  </thead>\n",
       "  <tbody>\n",
       "    <tr>\n",
       "      <th>0</th>\n",
       "      <td>11</td>\n",
       "    </tr>\n",
       "    <tr>\n",
       "      <th>1</th>\n",
       "      <td>3</td>\n",
       "    </tr>\n",
       "    <tr>\n",
       "      <th>2</th>\n",
       "      <td>9</td>\n",
       "    </tr>\n",
       "    <tr>\n",
       "      <th>3</th>\n",
       "      <td>8</td>\n",
       "    </tr>\n",
       "    <tr>\n",
       "      <th>4</th>\n",
       "      <td>3</td>\n",
       "    </tr>\n",
       "    <tr>\n",
       "      <th>...</th>\n",
       "      <td>...</td>\n",
       "    </tr>\n",
       "    <tr>\n",
       "      <th>3995</th>\n",
       "      <td>2</td>\n",
       "    </tr>\n",
       "    <tr>\n",
       "      <th>3996</th>\n",
       "      <td>27</td>\n",
       "    </tr>\n",
       "    <tr>\n",
       "      <th>3997</th>\n",
       "      <td>15</td>\n",
       "    </tr>\n",
       "    <tr>\n",
       "      <th>3998</th>\n",
       "      <td>19</td>\n",
       "    </tr>\n",
       "    <tr>\n",
       "      <th>3999</th>\n",
       "      <td>25</td>\n",
       "    </tr>\n",
       "  </tbody>\n",
       "</table>\n",
       "<p>4000 rows × 1 columns</p>\n",
       "</div>"
      ],
      "text/plain": [
       "      class\n",
       "0        11\n",
       "1         3\n",
       "2         9\n",
       "3         8\n",
       "4         3\n",
       "...     ...\n",
       "3995      2\n",
       "3996     27\n",
       "3997     15\n",
       "3998     19\n",
       "3999     25\n",
       "\n",
       "[4000 rows x 1 columns]"
      ]
     },
     "execution_count": 7,
     "metadata": {},
     "output_type": "execute_result"
    }
   ],
   "source": [
    "pd.DataFrame(pd_train_data_Y)"
   ]
  },
  {
   "cell_type": "code",
   "execution_count": 8,
   "metadata": {},
   "outputs": [
    {
     "data": {
      "image/png": "[encoded data removed]",
      "text/plain": [
       "<Figure size 360x360 with 1 Axes>"
      ]
     },
     "metadata": {
      "needs_background": "light"
     },
     "output_type": "display_data"
    }
   ],
   "source": [
    "#class distribution\n",
    "plt.figure()\n",
    "ax = pd_train_data_Y.hist(figsize=(5,5),bins=30)\n",
    "fig = ax.get_figure()\n",
    "fig.savefig('location_notebook_output/loacation_class.png')"
   ]
  },
  {
   "cell_type": "code",
   "execution_count": 13,
   "metadata": {},
   "outputs": [],
   "source": [
    "#try to over and under sample the data\n",
    "bi = 120\n",
    "\n",
    "def under_sample (pd_data, b = 100):\n",
    "    value_keys = pd_data[pd_data.columns[0]].value_counts().to_dict()\n",
    "    pd_new = pd.DataFrame()\n",
    "    \n",
    "    for key in value_keys.keys():\n",
    "        loc = pd_data.loc[pd_data['class'] == key]\n",
    "\n",
    "        if value_keys[key] > b:\n",
    "            loc = loc.sample(n = b, replace = False)\n",
    "\n",
    "        if len(pd_new) == 0:\n",
    "            pd_new = loc\n",
    "        else:\n",
    "            pd_new = pd.concat((pd_new,loc),axis=0)\n",
    "    \n",
    "    pd_new = pd_new.sample(frac=1).reset_index(drop=True)\n",
    "\n",
    "    \n",
    "    pd_X = pd_new[pd_new.columns[1:]]\n",
    "    pd_Y = pd_new[pd_new.columns[0]]\n",
    "        \n",
    "    return pd_X,pd_Y, pd_new\n",
    "\n",
    "\n",
    "def over_sample(pd_data, b = 100):\n",
    "    value_keys = pd_data[pd_data.columns[0]].value_counts().to_dict()\n",
    "    pd_new = pd.DataFrame()\n",
    "    \n",
    "    for key in value_keys.keys():\n",
    "        loc = pd_data.loc[pd_data['class'] == key]\n",
    "        \n",
    "        if value_keys[key] < b:\n",
    "            \n",
    "            app = loc.sample(n = (b - value_keys[key]), replace = False)\n",
    "            \n",
    "            loc = pd.concat((app,loc),axis=0)\n",
    "            \n",
    "        if len(pd_new) == 0:\n",
    "            pd_new = loc\n",
    "        else:\n",
    "            pd_new = pd.concat((pd_new,loc),axis=0)\n",
    "    \n",
    "    pd_new = pd_new.sample(frac=1).reset_index(drop=True)\n",
    "\n",
    "    \n",
    "    pd_X = pd_new[pd_new.columns[1:]]\n",
    "    pd_Y = pd_new[pd_new.columns[0]]\n",
    "        \n",
    "    return pd_X,pd_Y, pd_new\n",
    "            \n",
    "\n",
    "pd_X_under,pd_Y_under, pd_all_train_under = under_sample(pd_train_data, bi)\n",
    "\n",
    "pd_X_under_over,pd_Y_under_over, pd_all_train_under_over = over_sample(pd_all_train_under, bi)"
   ]
  },
  {
   "cell_type": "code",
   "execution_count": 14,
   "metadata": {},
   "outputs": [
    {
     "data": {
      "text/plain": [
       "<AxesSubplot:>"
      ]
     },
     "execution_count": 14,
     "metadata": {},
     "output_type": "execute_result"
    },
    {
     "data": {
      "image/png": "[encoded data removed]",
      "text/plain": [
       "<Figure size 432x288 with 1 Axes>"
      ]
     },
     "metadata": {
      "needs_background": "light"
     },
     "output_type": "display_data"
    }
   ],
   "source": [
    "pd_Y_under.hist(bins=30)"
   ]
  },
  {
   "cell_type": "code",
   "execution_count": 15,
   "metadata": {},
   "outputs": [
    {
     "data": {
      "text/plain": [
       "<AxesSubplot:>"
      ]
     },
     "execution_count": 15,
     "metadata": {},
     "output_type": "execute_result"
    },
    {
     "data": {
      "image/png": "[encoded data removed]",
      "text/plain": [
       "<Figure size 432x288 with 1 Axes>"
      ]
     },
     "metadata": {
      "needs_background": "light"
     },
     "output_type": "display_data"
    }
   ],
   "source": [
    "pd_Y_under_over.hist(bins=30)"
   ]
  },
  {
   "cell_type": "code",
   "execution_count": 168,
   "metadata": {},
   "outputs": [],
   "source": [
    "pca = PCA(n_components=400)\n",
    "pd_train_data = pca.fit_transform(pd_train_data_X)\n",
    "pd_test_data = pca.transform(pd_test_data_X)\n"
   ]
  },
  {
   "cell_type": "code",
   "execution_count": 169,
   "metadata": {},
   "outputs": [
    {
     "data": {
      "text/plain": [
       "{'C': 10, 'gamma': 0.01, 'kernel': 'rbf'}"
      ]
     },
     "execution_count": 169,
     "metadata": {},
     "output_type": "execute_result"
    }
   ],
   "source": [
    "param_grid = {'C': [0.01, 0.1, 0.5, 1, 10, 100], \n",
    "              'gamma': [1, 0.75, 0.5, 0.25, 0.1, 0.01, 0.001], \n",
    "              'kernel': ['rbf', 'poly', 'linear']} \n",
    "grid = GridSearchCV(SVC(), param_grid, refit=True, cv=5)\n",
    "grid.fit(pd_train_data_X, pd_train_data_Y)\n",
    "best_params = grid.best_params_\n",
    "best_params"
   ]
  },
  {
   "cell_type": "code",
   "execution_count": 142,
   "metadata": {},
   "outputs": [],
   "source": [
    "svm_clf = SVC( C= 10, gamma= 0.01, kernel= 'rbf')\n",
    "svm_clf.fit(pd_train_data_X, pd_train_data_Y)\n",
    "Predictions = svm_clf.predict(pd_test_data_X)"
   ]
  },
  {
   "cell_type": "code",
   "execution_count": 143,
   "metadata": {},
   "outputs": [],
   "source": [
    "pd.DataFrame(svm_clf.predict(pd_test_data_X)).to_csv('resultsof200.csv')"
   ]
  },
  {
   "cell_type": "code",
   "execution_count": 10,
   "metadata": {},
   "outputs": [
    {
     "data": {
      "image/png": "[encoded data removed]",
      "text/plain": [
       "<Figure size 1440x720 with 1 Axes>"
      ]
     },
     "metadata": {
      "needs_background": "light"
     },
     "output_type": "display_data"
    }
   ],
   "source": [
    "#pd_train = pd_train_data_X[['2','12','40','182','206','257','295','308','362']]\n",
    "#pd_test  = pd_test_data_X[['2','12','40','182','206','257','295','308','362']]\n",
    "\n",
    "#colours = [\"#FFFFCB\", \"#AAFF32\"]\n",
    "#plt.figure(figsize=(20,10))\n",
    "#sns.boxenplot(data = pd_train,palette = colours)\n",
    "#plt.xticks(rotation=90)\n",
    "#plt.show()\n"
   ]
  },
  {
   "cell_type": "code",
   "execution_count": 25,
   "metadata": {},
   "outputs": [],
   "source": [
    "#model = RandomForestRegressor(random_state=1, max_depth=10)\n",
    "#pd_train=pd.get_dummies(pd_train)\n",
    "#prd=model.fit(pd_train,pd_train_data_Y)"
   ]
  },
  {
   "cell_type": "code",
   "execution_count": 27,
   "metadata": {},
   "outputs": [],
   "source": [
    "#pkd=model.predict(pd_test)\n",
    "\n",
    "\n",
    "#pd.DataFrame(model.predict(pd_test)).to_csv('finaltwo2.csv')\n"
   ]
  },
  {
   "cell_type": "code",
   "execution_count": 24,
   "metadata": {},
   "outputs": [],
   "source": [
    "#data=pd.read_csv(\"solutons.csv\")"
   ]
  },
  {
   "cell_type": "code",
   "execution_count": null,
   "metadata": {},
   "outputs": [],
   "source": []
  }
 ],
 "metadata": {
  "kernelspec": {
   "display_name": "Python 3",
   "language": "python",
   "name": "python3"
  },
  "language_info": {
   "codemirror_mode": {
    "name": "ipython",
    "version": 3
   },
   "file_extension": ".py",
   "mimetype": "text/x-python",
   "name": "python",
   "nbconvert_exporter": "python",
   "pygments_lexer": "ipython3",
   "version": "3.7.9"
  }
 },
 "nbformat": 4,
 "nbformat_minor": 4
}
