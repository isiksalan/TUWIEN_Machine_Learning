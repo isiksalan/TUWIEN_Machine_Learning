{
 "cells": [
  {
   "cell_type": "code",
   "execution_count": 32,
   "id": "cc97b156-ad36-41bd-abd6-e6bb21f4fd33",
   "metadata": {},
   "outputs": [],
   "source": [
    "import seaborn as sns\n",
    "import matplotlib.pyplot as plt\n",
    "import pandas as pd\n",
    "import numpy as np\n",
    "from numpy import mean\n",
    "from numpy import std\n",
    "import time\n",
    "from lightgbm import LGBMClassifier\n",
    "from sklearn import preprocessing\n",
    "from sklearn.preprocessing import StandardScaler\n",
    "from sklearn.svm import SVC\n",
    "from sklearn.preprocessing import LabelEncoder\n",
    "from sklearn.model_selection import train_test_split\n",
    "from sklearn.model_selection import KFold\n",
    "from sklearn.model_selection import RepeatedKFold\n",
    "from sklearn.model_selection import cross_val_score\n",
    "from sklearn.model_selection import GridSearchCV\n",
    "from sklearn.metrics import confusion_matrix\n",
    "from sklearn.metrics import accuracy_score\n",
    "from sklearn.metrics import precision_score, recall_score, f1_score\n",
    "from sklearn.naive_bayes import GaussianNB\n",
    "from sklearn.linear_model import LogisticRegression\n",
    "\n",
    "from sklearn.ensemble import RandomForestClassifier\n",
    "from sklearn.svm import SVC\n",
    "from sklearn.neighbors import KNeighborsClassifier\n",
    "from sklearn.metrics import precision_score, recall_score, confusion_matrix, classification_report, accuracy_score, f1_score\n",
    "#the ones under here are for heat-map\n",
    "import seaborn as sns\n",
    "import matplotlib.pyplot as plt\n"
   ]
  },
  {
   "cell_type": "markdown",
   "id": "9c57e68b-590c-4afa-9310-c1c0699c62e4",
   "metadata": {},
   "source": [
    "Importing the dataset"
   ]
  },
  {
   "cell_type": "code",
   "execution_count": 33,
   "id": "aafc3348-e481-45ef-846d-87eb2c03b890",
   "metadata": {},
   "outputs": [
    {
     "data": {
      "text/html": [
       "<div>\n",
       "<style scoped>\n",
       "    .dataframe tbody tr th:only-of-type {\n",
       "        vertical-align: middle;\n",
       "    }\n",
       "\n",
       "    .dataframe tbody tr th {\n",
       "        vertical-align: top;\n",
       "    }\n",
       "\n",
       "    .dataframe thead th {\n",
       "        text-align: right;\n",
       "    }\n",
       "</style>\n",
       "<table border=\"1\" class=\"dataframe\">\n",
       "  <thead>\n",
       "    <tr style=\"text-align: right;\">\n",
       "      <th></th>\n",
       "      <th>MinTemp</th>\n",
       "      <th>MaxTemp</th>\n",
       "      <th>Rainfall</th>\n",
       "      <th>Evaporation</th>\n",
       "      <th>Sunshine</th>\n",
       "      <th>WindGustSpeed</th>\n",
       "      <th>WindSpeed9am</th>\n",
       "      <th>WindSpeed3pm</th>\n",
       "      <th>Humidity9am</th>\n",
       "      <th>Humidity3pm</th>\n",
       "      <th>Pressure9am</th>\n",
       "      <th>Pressure3pm</th>\n",
       "      <th>Cloud9am</th>\n",
       "      <th>Cloud3pm</th>\n",
       "      <th>Temp9am</th>\n",
       "      <th>Temp3pm</th>\n",
       "    </tr>\n",
       "  </thead>\n",
       "  <tbody>\n",
       "    <tr>\n",
       "      <th>count</th>\n",
       "      <td>143975.000000</td>\n",
       "      <td>144199.000000</td>\n",
       "      <td>142199.000000</td>\n",
       "      <td>82670.000000</td>\n",
       "      <td>75625.000000</td>\n",
       "      <td>135197.000000</td>\n",
       "      <td>143693.000000</td>\n",
       "      <td>142398.000000</td>\n",
       "      <td>142806.000000</td>\n",
       "      <td>140953.000000</td>\n",
       "      <td>130395.00000</td>\n",
       "      <td>130432.000000</td>\n",
       "      <td>89572.000000</td>\n",
       "      <td>86102.000000</td>\n",
       "      <td>143693.000000</td>\n",
       "      <td>141851.00000</td>\n",
       "    </tr>\n",
       "    <tr>\n",
       "      <th>mean</th>\n",
       "      <td>12.194034</td>\n",
       "      <td>23.221348</td>\n",
       "      <td>2.360918</td>\n",
       "      <td>5.468232</td>\n",
       "      <td>7.611178</td>\n",
       "      <td>40.035230</td>\n",
       "      <td>14.043426</td>\n",
       "      <td>18.662657</td>\n",
       "      <td>68.880831</td>\n",
       "      <td>51.539116</td>\n",
       "      <td>1017.64994</td>\n",
       "      <td>1015.255889</td>\n",
       "      <td>4.447461</td>\n",
       "      <td>4.509930</td>\n",
       "      <td>16.990631</td>\n",
       "      <td>21.68339</td>\n",
       "    </tr>\n",
       "    <tr>\n",
       "      <th>std</th>\n",
       "      <td>6.398495</td>\n",
       "      <td>7.119049</td>\n",
       "      <td>8.478060</td>\n",
       "      <td>4.193704</td>\n",
       "      <td>3.785483</td>\n",
       "      <td>13.607062</td>\n",
       "      <td>8.915375</td>\n",
       "      <td>8.809800</td>\n",
       "      <td>19.029164</td>\n",
       "      <td>20.795902</td>\n",
       "      <td>7.10653</td>\n",
       "      <td>7.037414</td>\n",
       "      <td>2.887159</td>\n",
       "      <td>2.720357</td>\n",
       "      <td>6.488753</td>\n",
       "      <td>6.93665</td>\n",
       "    </tr>\n",
       "    <tr>\n",
       "      <th>min</th>\n",
       "      <td>-8.500000</td>\n",
       "      <td>-4.800000</td>\n",
       "      <td>0.000000</td>\n",
       "      <td>0.000000</td>\n",
       "      <td>0.000000</td>\n",
       "      <td>6.000000</td>\n",
       "      <td>0.000000</td>\n",
       "      <td>0.000000</td>\n",
       "      <td>0.000000</td>\n",
       "      <td>0.000000</td>\n",
       "      <td>980.50000</td>\n",
       "      <td>977.100000</td>\n",
       "      <td>0.000000</td>\n",
       "      <td>0.000000</td>\n",
       "      <td>-7.200000</td>\n",
       "      <td>-5.40000</td>\n",
       "    </tr>\n",
       "    <tr>\n",
       "      <th>25%</th>\n",
       "      <td>7.600000</td>\n",
       "      <td>17.900000</td>\n",
       "      <td>0.000000</td>\n",
       "      <td>2.600000</td>\n",
       "      <td>4.800000</td>\n",
       "      <td>31.000000</td>\n",
       "      <td>7.000000</td>\n",
       "      <td>13.000000</td>\n",
       "      <td>57.000000</td>\n",
       "      <td>37.000000</td>\n",
       "      <td>1012.90000</td>\n",
       "      <td>1010.400000</td>\n",
       "      <td>1.000000</td>\n",
       "      <td>2.000000</td>\n",
       "      <td>12.300000</td>\n",
       "      <td>16.60000</td>\n",
       "    </tr>\n",
       "    <tr>\n",
       "      <th>50%</th>\n",
       "      <td>12.000000</td>\n",
       "      <td>22.600000</td>\n",
       "      <td>0.000000</td>\n",
       "      <td>4.800000</td>\n",
       "      <td>8.400000</td>\n",
       "      <td>39.000000</td>\n",
       "      <td>13.000000</td>\n",
       "      <td>19.000000</td>\n",
       "      <td>70.000000</td>\n",
       "      <td>52.000000</td>\n",
       "      <td>1017.60000</td>\n",
       "      <td>1015.200000</td>\n",
       "      <td>5.000000</td>\n",
       "      <td>5.000000</td>\n",
       "      <td>16.700000</td>\n",
       "      <td>21.10000</td>\n",
       "    </tr>\n",
       "    <tr>\n",
       "      <th>75%</th>\n",
       "      <td>16.900000</td>\n",
       "      <td>28.200000</td>\n",
       "      <td>0.800000</td>\n",
       "      <td>7.400000</td>\n",
       "      <td>10.600000</td>\n",
       "      <td>48.000000</td>\n",
       "      <td>19.000000</td>\n",
       "      <td>24.000000</td>\n",
       "      <td>83.000000</td>\n",
       "      <td>66.000000</td>\n",
       "      <td>1022.40000</td>\n",
       "      <td>1020.000000</td>\n",
       "      <td>7.000000</td>\n",
       "      <td>7.000000</td>\n",
       "      <td>21.600000</td>\n",
       "      <td>26.40000</td>\n",
       "    </tr>\n",
       "    <tr>\n",
       "      <th>max</th>\n",
       "      <td>33.900000</td>\n",
       "      <td>48.100000</td>\n",
       "      <td>371.000000</td>\n",
       "      <td>145.000000</td>\n",
       "      <td>14.500000</td>\n",
       "      <td>135.000000</td>\n",
       "      <td>130.000000</td>\n",
       "      <td>87.000000</td>\n",
       "      <td>100.000000</td>\n",
       "      <td>100.000000</td>\n",
       "      <td>1041.00000</td>\n",
       "      <td>1039.600000</td>\n",
       "      <td>9.000000</td>\n",
       "      <td>9.000000</td>\n",
       "      <td>40.200000</td>\n",
       "      <td>46.70000</td>\n",
       "    </tr>\n",
       "  </tbody>\n",
       "</table>\n",
       "</div>"
      ],
      "text/plain": [
       "             MinTemp        MaxTemp       Rainfall   Evaporation  \\\n",
       "count  143975.000000  144199.000000  142199.000000  82670.000000   \n",
       "mean       12.194034      23.221348       2.360918      5.468232   \n",
       "std         6.398495       7.119049       8.478060      4.193704   \n",
       "min        -8.500000      -4.800000       0.000000      0.000000   \n",
       "25%         7.600000      17.900000       0.000000      2.600000   \n",
       "50%        12.000000      22.600000       0.000000      4.800000   \n",
       "75%        16.900000      28.200000       0.800000      7.400000   \n",
       "max        33.900000      48.100000     371.000000    145.000000   \n",
       "\n",
       "           Sunshine  WindGustSpeed   WindSpeed9am   WindSpeed3pm  \\\n",
       "count  75625.000000  135197.000000  143693.000000  142398.000000   \n",
       "mean       7.611178      40.035230      14.043426      18.662657   \n",
       "std        3.785483      13.607062       8.915375       8.809800   \n",
       "min        0.000000       6.000000       0.000000       0.000000   \n",
       "25%        4.800000      31.000000       7.000000      13.000000   \n",
       "50%        8.400000      39.000000      13.000000      19.000000   \n",
       "75%       10.600000      48.000000      19.000000      24.000000   \n",
       "max       14.500000     135.000000     130.000000      87.000000   \n",
       "\n",
       "         Humidity9am    Humidity3pm   Pressure9am    Pressure3pm  \\\n",
       "count  142806.000000  140953.000000  130395.00000  130432.000000   \n",
       "mean       68.880831      51.539116    1017.64994    1015.255889   \n",
       "std        19.029164      20.795902       7.10653       7.037414   \n",
       "min         0.000000       0.000000     980.50000     977.100000   \n",
       "25%        57.000000      37.000000    1012.90000    1010.400000   \n",
       "50%        70.000000      52.000000    1017.60000    1015.200000   \n",
       "75%        83.000000      66.000000    1022.40000    1020.000000   \n",
       "max       100.000000     100.000000    1041.00000    1039.600000   \n",
       "\n",
       "           Cloud9am      Cloud3pm        Temp9am       Temp3pm  \n",
       "count  89572.000000  86102.000000  143693.000000  141851.00000  \n",
       "mean       4.447461      4.509930      16.990631      21.68339  \n",
       "std        2.887159      2.720357       6.488753       6.93665  \n",
       "min        0.000000      0.000000      -7.200000      -5.40000  \n",
       "25%        1.000000      2.000000      12.300000      16.60000  \n",
       "50%        5.000000      5.000000      16.700000      21.10000  \n",
       "75%        7.000000      7.000000      21.600000      26.40000  \n",
       "max        9.000000      9.000000      40.200000      46.70000  "
      ]
     },
     "execution_count": 33,
     "metadata": {},
     "output_type": "execute_result"
    }
   ],
   "source": [
    "dataset = pd.read_csv(\"weatherAUS.csv\")\n",
    "dataset.describe()\n"
   ]
  },
  {
   "cell_type": "code",
   "execution_count": 34,
   "id": "18b1942f-c71b-4884-b356-d8b1ee43fdc4",
   "metadata": {},
   "outputs": [
    {
     "data": {
      "text/plain": [
       "Date                 0\n",
       "Location             0\n",
       "MinTemp           1485\n",
       "MaxTemp           1261\n",
       "Rainfall          3261\n",
       "Evaporation      62790\n",
       "Sunshine         69835\n",
       "WindGustDir      10326\n",
       "WindGustSpeed    10263\n",
       "WindDir9am       10566\n",
       "WindDir3pm        4228\n",
       "WindSpeed9am      1767\n",
       "WindSpeed3pm      3062\n",
       "Humidity9am       2654\n",
       "Humidity3pm       4507\n",
       "Pressure9am      15065\n",
       "Pressure3pm      15028\n",
       "Cloud9am         55888\n",
       "Cloud3pm         59358\n",
       "Temp9am           1767\n",
       "Temp3pm           3609\n",
       "RainToday         3261\n",
       "RainTomorrow      3267\n",
       "dtype: int64"
      ]
     },
     "execution_count": 34,
     "metadata": {},
     "output_type": "execute_result"
    }
   ],
   "source": [
    "dataset.isnull().sum()\n"
   ]
  },
  {
   "cell_type": "code",
   "execution_count": 35,
   "id": "d470512f-a608-4a43-81e8-962ad8c1cf92",
   "metadata": {},
   "outputs": [
    {
     "data": {
      "text/plain": [
       "Location         0\n",
       "MinTemp          0\n",
       "MaxTemp          0\n",
       "Rainfall         0\n",
       "Evaporation      0\n",
       "Sunshine         0\n",
       "WindGustDir      0\n",
       "WindGustSpeed    0\n",
       "WindDir9am       0\n",
       "WindDir3pm       0\n",
       "WindSpeed9am     0\n",
       "WindSpeed3pm     0\n",
       "Humidity9am      0\n",
       "Humidity3pm      0\n",
       "Pressure9am      0\n",
       "Pressure3pm      0\n",
       "Cloud9am         0\n",
       "Cloud3pm         0\n",
       "Temp9am          0\n",
       "Temp3pm          0\n",
       "RainToday        0\n",
       "RainTomorrow     0\n",
       "dtype: int64"
      ]
     },
     "execution_count": 35,
     "metadata": {},
     "output_type": "execute_result"
    }
   ],
   "source": [
    "dataset=dataset.drop(['Date'],axis=1)\n",
    "dataset=dataset.dropna(how='any')\n",
    "dataset.isnull().sum()\n"
   ]
  },
  {
   "cell_type": "code",
   "execution_count": 36,
   "id": "c802105c-7869-4a9d-ac68-ab47b669ed37",
   "metadata": {},
   "outputs": [
    {
     "name": "stdout",
     "output_type": "stream",
     "text": [
      "<class 'pandas.core.frame.DataFrame'>\n",
      "Int64Index: 56420 entries, 6049 to 142302\n",
      "Data columns (total 22 columns):\n",
      " #   Column         Non-Null Count  Dtype  \n",
      "---  ------         --------------  -----  \n",
      " 0   Location       56420 non-null  int32  \n",
      " 1   MinTemp        56420 non-null  float64\n",
      " 2   MaxTemp        56420 non-null  float64\n",
      " 3   Rainfall       56420 non-null  float64\n",
      " 4   Evaporation    56420 non-null  float64\n",
      " 5   Sunshine       56420 non-null  float64\n",
      " 6   WindGustDir    56420 non-null  int32  \n",
      " 7   WindGustSpeed  56420 non-null  float64\n",
      " 8   WindDir9am     56420 non-null  int32  \n",
      " 9   WindDir3pm     56420 non-null  int32  \n",
      " 10  WindSpeed9am   56420 non-null  float64\n",
      " 11  WindSpeed3pm   56420 non-null  float64\n",
      " 12  Humidity9am    56420 non-null  float64\n",
      " 13  Humidity3pm    56420 non-null  float64\n",
      " 14  Pressure9am    56420 non-null  float64\n",
      " 15  Pressure3pm    56420 non-null  float64\n",
      " 16  Cloud9am       56420 non-null  float64\n",
      " 17  Cloud3pm       56420 non-null  float64\n",
      " 18  Temp9am        56420 non-null  float64\n",
      " 19  Temp3pm        56420 non-null  float64\n",
      " 20  RainToday      56420 non-null  int32  \n",
      " 21  RainTomorrow   56420 non-null  int32  \n",
      "dtypes: float64(16), int32(6)\n",
      "memory usage: 8.6 MB\n"
     ]
    }
   ],
   "source": [
    "categorical, numerical = [], []\n",
    "\n",
    "for i in dataset.columns:\n",
    "\n",
    "    if dataset[i].dtype == 'object':\n",
    "        categorical.append(i)\n",
    "    else:\n",
    "        numerical.append(i)\n",
    "\n",
    "#separate categorical and numerical columns\n",
    "categorical=dataset[['Location', 'WindGustDir', 'WindDir9am', 'WindDir3pm', 'RainToday', 'RainTomorrow']]\n",
    "numerical=dataset[['MinTemp', 'MaxTemp', 'Rainfall', 'Evaporation', 'Sunshine', 'WindGustSpeed', 'WindSpeed9am', 'WindSpeed3pm', 'Humidity9am', 'Humidity3pm', 'Pressure9am', 'Pressure3pm', 'Cloud9am', 'Cloud3pm', 'Temp9am', 'Temp3pm']]\n",
    "label_encoder = LabelEncoder()\n",
    "for i in categorical:\n",
    "    dataset[i] = label_encoder.fit_transform(dataset[i])\n",
    "\n",
    "dataset.info()\n"
   ]
  },
  {
   "cell_type": "code",
   "execution_count": 37,
   "id": "5525a29d-88e1-464b-bfe0-0a7d79f1d7f8",
   "metadata": {},
   "outputs": [],
   "source": [
    "y=dataset['RainTomorrow']\n",
    "X=dataset.drop(['RainTomorrow'],axis=1)\n",
    "\n",
    "X_train, X_test, y_train, y_test = train_test_split(X, y, test_size=0.2, random_state=0)\n",
    "\n",
    "scaler = StandardScaler()\n",
    "\n",
    "scaler.fit(X_train)\n",
    "X_train_s = pd.DataFrame(scaler.fit_transform(X_train),columns = X_train.columns)\n",
    "\n",
    "scaler.fit(X_test)\n",
    "X_test_s = pd.DataFrame(scaler.fit_transform(X_test),columns = X_test.columns)\n",
    "\n",
    "\n",
    "def max_value(df, variable, top):\n",
    "    return np.where(df[variable]>top, top, df[variable])\n",
    "\n",
    "for df in [X_train_s, X_test_s]:\n",
    "    df['Rainfall'] = max_value(df, 'Rainfall', 3.2)\n",
    "    df['Evaporation'] = max_value(df, 'Evaporation', 2.8)\n",
    "    df['WindSpeed9am'] = max_value(df, 'WindSpeed9am', 5)\n",
    "    df['WindSpeed3pm'] = max_value(df, 'WindSpeed3pm', 5)\n",
    "    df['WindGustSpeed'] =max_value(df,'WindGustSpeed', 4)\n"
   ]
  },
  {
   "cell_type": "code",
   "execution_count": 38,
   "id": "f3a37b8d-082a-4a0f-a023-dcae31984db8",
   "metadata": {},
   "outputs": [
    {
     "name": "stdout",
     "output_type": "stream",
     "text": [
      "Accuracy percentage for Naive Bayes is :\n",
      "0.7953739808578518\n",
      "0.0388948917388916\n"
     ]
    }
   ],
   "source": [
    "#Gaıssian Naive Bayes\n",
    "gnb = GaussianNB()\n",
    "start_time1=time.time()\n",
    "pred = gnb.fit(X_train_s, y_train).predict(X_test_s)\n",
    "\n",
    "end_time1=time.time()\n",
    "predictions1= gnb.predict(X_test_s)\n",
    "classification_report(y_test,predictions1)\n",
    "\n",
    "\n",
    "total = (X_test_s.shape[0])\n",
    "mislabelled = (y_test != predictions1).sum()\n",
    "\n",
    "print(\"Accuracy percentage for Naive Bayes is :\")\n",
    "print((total-mislabelled)/total)\n",
    "print(end_time1-start_time1)\n"
   ]
  },
  {
   "cell_type": "code",
   "execution_count": 39,
   "id": "de1dec82-d356-424c-aa0f-8d5d9896259b",
   "metadata": {},
   "outputs": [
    {
     "data": {
      "text/plain": [
       "'              precision    recall  f1-score   support\\n\\n           0       0.91      0.82      0.86      8854\\n           1       0.52      0.70      0.60      2430\\n\\n    accuracy                           0.80     11284\\n   macro avg       0.71      0.76      0.73     11284\\nweighted avg       0.82      0.80      0.81     11284\\n'"
      ]
     },
     "execution_count": 39,
     "metadata": {},
     "output_type": "execute_result"
    }
   ],
   "source": [
    "classification_report(y_test, predictions1)\n"
   ]
  },
  {
   "cell_type": "code",
   "execution_count": 40,
   "id": "4c611da8-ccb9-4354-8494-175bf67d9416",
   "metadata": {},
   "outputs": [
    {
     "data": {
      "text/plain": [
       "('accuracy with a standard deviation of',\n",
       " (0.7961006735200283, 0.04600928041183562))"
      ]
     },
     "execution_count": 40,
     "metadata": {},
     "output_type": "execute_result"
    }
   ],
   "source": [
    "\n",
    "scores_gnb=cross_val_score(gnb, X, y, cv=10)\n",
    "\n",
    "(\"accuracy with a standard deviation of\" , (scores_gnb.mean(), scores_gnb.std()))\n"
   ]
  },
  {
   "cell_type": "code",
   "execution_count": 24,
   "id": "2354926d-b950-4878-bb0d-b790f726f24d",
   "metadata": {},
   "outputs": [
    {
     "data": {
      "text/plain": [
       "'              precision    recall  f1-score   support\\n\\n           0       0.88      0.95      0.92      8854\\n           1       0.76      0.55      0.64      2430\\n\\n    accuracy                           0.87     11284\\n   macro avg       0.82      0.75      0.78     11284\\nweighted avg       0.86      0.87      0.86     11284\\n'"
      ]
     },
     "execution_count": 24,
     "metadata": {},
     "output_type": "execute_result"
    }
   ],
   "source": [
    "\n",
    "model = RandomForestClassifier()\n",
    "time_start= time.time()\n",
    "model.fit(X_train_s, y_train)\n",
    "time_end= time.time()\n",
    "\n",
    "predictions = model.predict(X_test_s)\n",
    "classification_report(y_test, predictions)\n"
   ]
  },
  {
   "cell_type": "code",
   "execution_count": 25,
   "id": "2d5286e9-0fd8-4f5d-874f-6812fd07a06a",
   "metadata": {},
   "outputs": [
    {
     "data": {
      "text/plain": [
       "('learning time for holdout method', 5.599241733551025)"
      ]
     },
     "execution_count": 25,
     "metadata": {},
     "output_type": "execute_result"
    }
   ],
   "source": [
    " \n",
    "accuracy_score(y_test, predictions)\n",
    "accuracy_score(y_test, predictions)\n",
    "\n",
    "\"learning time for holdout method\", (time_end-time_start)\n",
    "\n"
   ]
  },
  {
   "cell_type": "code",
   "execution_count": 26,
   "id": "83282c9c-5ac6-4683-a289-5167cb1e5158",
   "metadata": {},
   "outputs": [
    {
     "data": {
      "text/plain": [
       "{'criterion': 'gini',\n",
       " 'max_depth': 10,\n",
       " 'max_features': 'auto',\n",
       " 'n_estimators': 200}"
      ]
     },
     "execution_count": 26,
     "metadata": {},
     "output_type": "execute_result"
    }
   ],
   "source": [
    "time_start1=time.time()\n",
    "param_grid = {\n",
    "  'n_estimators': [100, 200],\n",
    "    'max_features': ['auto'],\n",
    "    'max_depth' : [4,5,8,10],\n",
    "   'criterion' :['gini', 'entropy']\n",
    "}\n",
    "RFC = RandomForestClassifier()\n",
    "cv_RFC = GridSearchCV(estimator=RFC, param_grid=param_grid, cv=10)\n",
    "best_model= cv_RFC.fit(X_train_s, y_train)\n",
    "time_end1=time.time()\n",
    "bestparameters=cv_RFC.best_params_\n",
    "bestparameters\n"
   ]
  },
  {
   "cell_type": "code",
   "execution_count": 27,
   "id": "8a77f8b8-abe4-410b-ad83-d24624ec267f",
   "metadata": {},
   "outputs": [
    {
     "data": {
      "text/plain": [
       "('learning time for gridsearch', 606.4203310012817)"
      ]
     },
     "execution_count": 27,
     "metadata": {},
     "output_type": "execute_result"
    }
   ],
   "source": [
    "\n",
    "\"learning time for gridsearch\", (time_end1-time_start1)\n",
    "\n"
   ]
  },
  {
   "cell_type": "code",
   "execution_count": 28,
   "id": "1bdd6a96-f500-4eea-90f1-3026359baf85",
   "metadata": {},
   "outputs": [
    {
     "data": {
      "text/plain": [
       "('learning time with best parameters', 7.202383279800415)"
      ]
     },
     "execution_count": 28,
     "metadata": {},
     "output_type": "execute_result"
    }
   ],
   "source": [
    "clf=RandomForestClassifier(criterion='gini',\n",
    "                                                                              max_depth=10,\n",
    "                                                                              max_features='auto',\n",
    "                                                                              n_estimators=200)\n",
    "\n",
    "time_start2=time.time()\n",
    "clf.fit(X_train_s, y_train)\n",
    "time_end2=time.time()\n",
    "\"learning time with best parameters\",time_end2-time_start2 \n"
   ]
  },
  {
   "cell_type": "code",
   "execution_count": 31,
   "id": "7e6010b7-5cc1-4266-ad3a-224d0396f6a1",
   "metadata": {},
   "outputs": [
    {
     "data": {
      "text/plain": [
       "('accuracy with a standard deviation of ',\n",
       " (0.8409606522509749, 0.023103976799738773))"
      ]
     },
     "execution_count": 31,
     "metadata": {},
     "output_type": "execute_result"
    }
   ],
   "source": [
    "scores =cross_val_score(clf, X, y, cv=10)\n",
    "\"accuracy with a standard deviation of \" , (scores.mean(), scores.std())\n",
    "\n"
   ]
  },
  {
   "cell_type": "code",
   "execution_count": null,
   "id": "638ac310-3384-45c8-9a32-5a9b5a1a85db",
   "metadata": {},
   "outputs": [],
   "source": [
    "y_pred = clf.predict(X_test_s)\n",
    "y_pred = clf.predict(X_test_s)\n",
    "confusion_matrix(y_test, y_pred)\n"
   ]
  },
  {
   "cell_type": "code",
   "execution_count": null,
   "id": "03527149-7df5-4926-9177-9d20b33ac153",
   "metadata": {},
   "outputs": [],
   "source": [
    "\n",
    "classification_report(y_test,y_pred)\n",
    "classification_report(y_test,y_pred)\n"
   ]
  },
  {
   "cell_type": "code",
   "execution_count": null,
   "id": "938a1c8e-c122-430e-aac4-16ac11b13b29",
   "metadata": {},
   "outputs": [],
   "source": [
    "accuracy_score(y_test, y_pred)\n"
   ]
  },
  {
   "cell_type": "code",
   "execution_count": null,
   "id": "e566b029-63c2-44bd-a0d4-3fb51f97509b",
   "metadata": {},
   "outputs": [],
   "source": [
    "\n",
    "\"f1 score is :\",f1_score(y_test, y_pred)\n"
   ]
  },
  {
   "cell_type": "code",
   "execution_count": null,
   "id": "515735e7-15a9-451e-b7b7-4d394f6980bc",
   "metadata": {},
   "outputs": [],
   "source": [
    "\n",
    "(y_test, y_pred)\n",
    "precision_score(y_test, y_pred)\n"
   ]
  },
  {
   "cell_type": "code",
   "execution_count": null,
   "id": "44bf3aae-0f47-49cd-98e2-f6d55bb6f7b6",
   "metadata": {},
   "outputs": [],
   "source": [
    "\n",
    "recall_score(y_test, y_pred)\n",
    "\n"
   ]
  },
  {
   "cell_type": "code",
   "execution_count": null,
   "id": "082e2810-2fcf-4d7a-83cf-12b94f59e28c",
   "metadata": {},
   "outputs": [],
   "source": [
    "logreg=LogisticRegression()\n",
    "starttime=time.time()\n",
    "logreg.fit(X_train_s,y_train)\n",
    "endtime=time.time()\n",
    "predictions2=logreg.predict(X_test_s)\n",
    "classification_report(y_test,predictions2)\n",
    "\n"
   ]
  },
  {
   "cell_type": "code",
   "execution_count": null,
   "id": "365a244a-d8d4-4b30-ac25-52df28a97bf8",
   "metadata": {},
   "outputs": [],
   "source": [
    "accuracy_score(y_test,predictions2)\n",
    "\n"
   ]
  },
  {
   "cell_type": "code",
   "execution_count": null,
   "id": "f4c23acf-758b-41ab-8e04-d245f6b184af",
   "metadata": {},
   "outputs": [],
   "source": [
    " logistic regression\n",
    "\"learning time logistic regression for the holdout method\" (endtime-starttime)"
   ]
  },
  {
   "cell_type": "code",
   "execution_count": null,
   "id": "0462812f-3127-47c8-9092-98ef9af06a1c",
   "metadata": {},
   "outputs": [],
   "source": [
    "svclassifier = SVC(kernel='rbf')\n",
    "start_time_svm=time.time()\n",
    "svclassifier.fit(X_train_s, y_train)\n",
    "end_time_svm=time.time()\n",
    "predictions_svm=svclassifier.predict(X_test_s)\n",
    "print(\"holdout method - classification report for SVM \")\n",
    "\n",
    "print( classification_report(y_test, predictions_svm))\n",
    "\n",
    "print(\"accuracy score for holdout method\",accuracy_score(y_test, predictions_svm))\n",
    "\n",
    "print(\"learning time for holdout method\", (end_time_svm-start_time_svm))\n",
    "\n"
   ]
  },
  {
   "cell_type": "code",
   "execution_count": 41,
   "id": "febeebf1-66ec-4bce-bf4b-67cf5a92382f",
   "metadata": {},
   "outputs": [
    {
     "data": {
      "text/plain": [
       "0.7179038524627686"
      ]
     },
     "execution_count": 41,
     "metadata": {},
     "output_type": "execute_result"
    }
   ],
   "source": [
    "lightgbmc = LGBMClassifier(n_estimators=500,max_depth=6)\n",
    "timeyy=time.time()\n",
    "lightgbmc.fit(X_train_s, y_train)\n",
    "timeyy2=time.time()\n",
    "(timeyy2-timeyy)\n"
   ]
  },
  {
   "cell_type": "code",
   "execution_count": 42,
   "id": "53a0c376-463f-4c26-9683-7bf2f670e708",
   "metadata": {},
   "outputs": [
    {
     "data": {
      "text/plain": [
       "'              precision    recall  f1-score   support\\n\\n           0       0.90      0.94      0.92      8854\\n           1       0.75      0.60      0.67      2430\\n\\n    accuracy                           0.87     11284\\n   macro avg       0.82      0.77      0.79     11284\\nweighted avg       0.86      0.87      0.86     11284\\n'"
      ]
     },
     "execution_count": 42,
     "metadata": {},
     "output_type": "execute_result"
    }
   ],
   "source": [
    "\n",
    "y_pred2 = lightgbmc.predict(X_test_s)\n",
    "classification_report(y_test, y_pred2)\n",
    "\n"
   ]
  },
  {
   "cell_type": "code",
   "execution_count": 43,
   "id": "28a15314-9800-45b9-89d9-9243231da6ff",
   "metadata": {},
   "outputs": [
    {
     "data": {
      "text/plain": [
       "('Accuracy of the LightGBM Model is:', 0.8702587734845799)"
      ]
     },
     "execution_count": 43,
     "metadata": {},
     "output_type": "execute_result"
    }
   ],
   "source": [
    "\"Accuracy of the LightGBM Model is:\", accuracy_score(y_test,y_pred2)\n",
    "\n"
   ]
  },
  {
   "cell_type": "code",
   "execution_count": 44,
   "id": "4fe6629b-3145-4b66-bfcc-dba75984f1b9",
   "metadata": {},
   "outputs": [
    {
     "data": {
      "text/plain": [
       "array([[8358,  496],\n",
       "       [ 968, 1462]], dtype=int64)"
      ]
     },
     "execution_count": 44,
     "metadata": {},
     "output_type": "execute_result"
    }
   ],
   "source": [
    "confusion_matrix(y_test, y_pred2)\n",
    "\n"
   ]
  },
  {
   "cell_type": "code",
   "execution_count": 45,
   "id": "4471d16e-8dd4-4fd4-8930-20c896df301a",
   "metadata": {},
   "outputs": [
    {
     "name": "stdout",
     "output_type": "stream",
     "text": [
      "{'learning_rate': 0.1, 'max_depth': -1, 'min_child_samples': 15, 'num_leaves': 60, 'reg_alpha': 0.01}\n"
     ]
    }
   ],
   "source": [
    "lgb=LGBMClassifier()\n",
    "\n",
    "parameters = {'num_leaves':[20,40,60,80,100], 'min_child_samples':[5,10,15],'max_depth':[-1,5,10,20],\n",
    "             'learning_rate':[0.05,0.1,0.2],'reg_alpha':[0,0.01,0.03]}\n",
    "\n",
    "clf3=GridSearchCV(lgb,parameters,cv=5)\n",
    "\n",
    "clf3.fit(X=X_train_s, y=y_train)\n",
    "print(clf3.best_params_)\n"
   ]
  },
  {
   "cell_type": "code",
   "execution_count": 50,
   "id": "bd685921-428a-4975-ac3a-6b29c1f0565c",
   "metadata": {},
   "outputs": [
    {
     "name": "stdout",
     "output_type": "stream",
     "text": [
      "0.81 accuracy with a standard deviation of 0.06\n"
     ]
    }
   ],
   "source": [
    "\n",
    "clf3best=LGBMClassifier(num_leaves= 60, min_child_samples=15,max_depth=10,\n",
    "             learning_rate=0.1,reg_alpha=0.03)\n",
    "\n",
    "clf3best.fit(X_train_s, y_train)\n",
    "scores3 =cross_val_score(clf3best, X, y, cv=5)\n",
    "\n",
    "print(\"%0.2f accuracy with a standard deviation of %0.2f\" % (scores3.mean(), scores3.std()))\n",
    "\n"
   ]
  },
  {
   "cell_type": "code",
   "execution_count": 51,
   "id": "aecf3402-b8b1-4b55-b340-b6001c3f926a",
   "metadata": {},
   "outputs": [
    {
     "data": {
      "text/plain": [
       "'              precision    recall  f1-score   support\\n\\n           0       0.89      0.94      0.92      8854\\n           1       0.74      0.59      0.66      2430\\n\\n    accuracy                           0.87     11284\\n   macro avg       0.82      0.77      0.79     11284\\nweighted avg       0.86      0.87      0.86     11284\\n'"
      ]
     },
     "execution_count": 51,
     "metadata": {},
     "output_type": "execute_result"
    }
   ],
   "source": [
    "y_pred3 = clf3best.predict(X_test_s)\n",
    "classification_report(y_test,y_pred3)\n",
    "          "
   ]
  },
  {
   "cell_type": "code",
   "execution_count": 52,
   "id": "3ea8bbd5-1d6a-490d-a6be-5cc32e54b116",
   "metadata": {},
   "outputs": [
    {
     "data": {
      "text/plain": [
       "0.8677773839064161"
      ]
     },
     "execution_count": 52,
     "metadata": {},
     "output_type": "execute_result"
    }
   ],
   "source": [
    "\n",
    "accuracy_score(y_test,y_pred3)"
   ]
  },
  {
   "cell_type": "code",
   "execution_count": null,
   "id": "9f4e4d4e-0431-4321-b862-72a7bacacd2c",
   "metadata": {},
   "outputs": [],
   "source": []
  }
 ],
 "metadata": {
  "kernelspec": {
   "display_name": "Python 3",
   "language": "python",
   "name": "python3"
  },
  "language_info": {
   "codemirror_mode": {
    "name": "ipython",
    "version": 3
   },
   "file_extension": ".py",
   "mimetype": "text/x-python",
   "name": "python",
   "nbconvert_exporter": "python",
   "pygments_lexer": "ipython3",
   "version": "3.7.9"
  }
 },
 "nbformat": 4,
 "nbformat_minor": 5
}
